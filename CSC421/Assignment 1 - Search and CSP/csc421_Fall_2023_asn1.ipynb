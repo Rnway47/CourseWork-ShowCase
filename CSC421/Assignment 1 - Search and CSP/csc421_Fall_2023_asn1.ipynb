{
 "cells": [
  {
   "cell_type": "markdown",
   "metadata": {},
   "source": [
    "# CSC421 Assignment 1 Search, and CSP \n",
    "\n",
    "This assignment notebook explores topics covered in **Chapter 3 - Searching** and **Chapter 6 - Constraint Satisfication Problems** from the book *Artificial Intelligence: A Modern Approach.* The code provided is based on parts of the aima-code repository but has been adapted, modified and simplified for the purposes of the assignment. The notebook is self-contained and other than importing a few common packages you don't need to access any additional code. \n",
    "\n",
    "You are welcome (and actually it can be educational) to look at the code at the aima-code repository as well as other code resources you can find on the web or ask ChatGPT. However, make sure you understand any code that you incoporate and submit. A random subset of students will be examined in person and will be asked questions about the code submitted. Failure to understand submitted code will result in a 0 grade for the entire assignment. \n",
    "\n",
    "The assignment structure is as follows - each item is worth 1 point: \n",
    "\n",
    " \n",
    "1. Search (Basic) -  Add connection to Romania map, return frontier evolution as list \n",
    "2. Search (Basic) -  Return frontier evolution as list \n",
    "3. Search (Expected) - RandomSearch  \n",
    "4. Search (Expected) - Change grid problem to 4 directions and modulo movement \n",
    "5. Search (Expected) - Landgrid problem \n",
    "6. Search (Expected) - Manhattan distance  \n",
    "7. Search (Advanced) Experimental comparison/new heuristic or visualization/animation \n",
    "8. CSP (Basic): Basic CSP for map of Australia with unitary contraint  \n",
    "9. CSP (Expected): Type inference toy example as CSP  \n",
    "10. CSP (Advanced): Implement CSP as a search problem or more complete type inference   \n",
    "\n",
    "The assignment is worth $10\\%$ of the total grade and each question is worth $1\\%$. \n",
    "\n",
    "**IMPORTANT:** The submission details will be provided by an announcement through Brightspace and will be through the PraireLearn portal. You \n",
    "will be required to submit Python source files individually rather than a notebook for subgroups of the questions \n",
    "as this will make grading your solutions easier and faster. For working on the assignment \n",
    "I recommend using the jupyter-lab interface as it supports interactive development and it is \n",
    "helpful to use visualizations and plots. \n",
    "\n",
    "\n"
   ]
  },
  {
   "cell_type": "code",
   "execution_count": 1,
   "metadata": {},
   "outputs": [],
   "source": [
    "## ABSTRACT PROBLEM CLASS \n",
    "\n",
    "%matplotlib inline\n",
    "import matplotlib.pyplot as plt\n",
    "import random\n",
    "import heapq\n",
    "import math\n",
    "import sys\n",
    "from collections import defaultdict, deque, Counter\n",
    "from itertools import combinations\n",
    "\n",
    "class Problem(object):\n",
    "    \"\"\"The abstract class for a formal problem. A new domain subclasses this,\n",
    "    overriding `actions` and `results`, and perhaps other methods.\n",
    "    The default heuristic is 0 and the default action cost is 1 for all states.\n",
    "    When you create an instance of a subclass, specify `initial`, and `goal` states \n",
    "    (or give an `is_goal` method) and perhaps other keyword args for the subclass.\"\"\"\n",
    "\n",
    "    def __init__(self, initial=None, goal=None, **kwds): \n",
    "        self.__dict__.update(initial=initial, goal=goal, **kwds) \n",
    "        \n",
    "    def actions(self, state):        raise NotImplementedError\n",
    "    def result(self, state, action): raise NotImplementedError\n",
    "    def is_goal(self, state):        return state == self.goal\n",
    "    def action_cost(self, s, a, s1): return 1\n",
    "    def h(self, node):               return 0\n",
    "    \n",
    "    def __str__(self):\n",
    "        return '{}({!r}, {!r})'.format(\n",
    "            type(self).__name__, self.initial, self.goal)\n",
    "\n",
    "class Node:\n",
    "    \"A Node in a search tree.\"\n",
    "    def __init__(self, state, parent=None, action=None, path_cost=0):\n",
    "        self.__dict__.update(state=state, parent=parent, action=action, path_cost=path_cost)\n",
    "\n",
    "    def __repr__(self): return '<{}>'.format(self.state)\n",
    "    def __len__(self): return 0 if self.parent is None else (1 + len(self.parent))\n",
    "    def __lt__(self, other): return self.path_cost < other.path_cost\n",
    "    \n",
    "failure = Node('failure', path_cost=math.inf) # Indicates an algorithm couldn't find a solution.\n",
    "cutoff  = Node('cutoff',  path_cost=math.inf) # Indicates iterative deepening search was cut off.\n",
    "       \n",
    "def expand(problem, node):\n",
    "    \"Expand a node, generating the children nodes.\"\n",
    "    s = node.state\n",
    "    for action in problem.actions(s):\n",
    "        s1 = problem.result(s, action)\n",
    "        cost = node.path_cost + problem.action_cost(s, action, s1)\n",
    "        yield Node(s1, node, action, cost)\n",
    "        \n",
    "def path_actions(node):\n",
    "    \"The sequence of actions to get to this node.\"\n",
    "    if node.parent is None:\n",
    "        return []  \n",
    "    return path_actions(node.parent) + [node.action]\n",
    "\n",
    "def path_states(node):\n",
    "    \"The sequence of states to get to this node.\"\n",
    "    if node in (cutoff, failure, None): \n",
    "        return []\n",
    "    return path_states(node.parent) + [node.state]"
   ]
  },
  {
   "cell_type": "code",
   "execution_count": 2,
   "metadata": {},
   "outputs": [],
   "source": [
    "# PriorityQueue - note \n",
    "# there is a small difference from the \n",
    "# book implementation in order to ensure \n",
    "# sorting stability \n",
    "\n",
    "class PriorityQueue:\n",
    "    \"\"\"A queue in which the item with minimum f(item) is always popped first.\"\"\"\n",
    "\n",
    "    def __init__(self, items=(), key=lambda x: x): \n",
    "        self.key = key\n",
    "        self.items = [] # a heap of (score, item) pairs\n",
    "        self.item_count = 0 \n",
    "        for item in items:\n",
    "            self.add(item)\n",
    "         \n",
    "    def add(self, item):\n",
    "        \"\"\"Add item to the queuez.\"\"\"\n",
    "        pair = ((self.key(item),self.item_count), item)\n",
    "        heapq.heappush(self.items, pair)\n",
    "        self.item_count+=1  \n",
    "\n",
    "    def pop(self):\n",
    "        \"\"\"Pop and return the item with min f(item) value.\"\"\"\n",
    "        return heapq.heappop(self.items)[1]\n",
    "    \n",
    "    def top(self): return self.items[0][1]\n",
    "\n",
    "    def get_items(self): \n",
    "        return self.items.copy() \n",
    "\n",
    "    def __len__(self): return len(self.items)"
   ]
  },
  {
   "cell_type": "code",
   "execution_count": 3,
   "metadata": {},
   "outputs": [],
   "source": [
    "# Different search algorithms \n",
    "# defined by appropriate definition of priorities \n",
    "\n",
    "\n",
    "def best_first_search(problem, f):\n",
    "    \"Search nodes with minimum f(node) value first.\"\n",
    "    node = Node(problem.initial)\n",
    "    frontier = PriorityQueue([node], key=f)\n",
    "    reached = {problem.initial: node}\n",
    "    frontiers = [] \n",
    "    while frontier:\n",
    "        frontier_items = frontier.get_items()\n",
    "        frontiers.append(frontier_items)\n",
    "        node = frontier.pop()\n",
    "        \n",
    "        if problem.is_goal(node.state):\n",
    "            return (node,reached,frontiers)\n",
    "        for child in expand(problem, node):\n",
    "            s = child.state\n",
    "            if s not in reached or child.path_cost < reached[s].path_cost:\n",
    "                reached[s] = child\n",
    "                frontier.add(child)\n",
    "        \n",
    "    return (failure, reached, frontiers)\n",
    "\n",
    "def g(n): return n.path_cost\n",
    "\n",
    "def astar_search(problem, h=None):\n",
    "    \"\"\"Search nodes with minimum f(n) = g(n) + h(n).\"\"\"\n",
    "    h = h or problem.h\n",
    "    return best_first_search(problem, f=lambda n: g(n) + h(n))\n",
    "        \n",
    "def greedy_bfs(problem, h=None):\n",
    "    \"\"\"Search nodes with minimum h(n).\"\"\"\n",
    "    h = h or problem.h\n",
    "    return best_first_search(problem, f=h)\n",
    "\n",
    "def uniform_cost_search(problem):\n",
    "    \"Search nodes with minimum path cost first.\"\n",
    "    return best_first_search(problem, f=g)\n",
    "\n",
    "def breadth_first_bfs(problem):\n",
    "    \"Search shallowest nodes in the search tree first; using best-first.\"\n",
    "    return best_first_search(problem, f=len)\n"
   ]
  },
  {
   "cell_type": "markdown",
   "metadata": {},
   "source": [
    "# QUESTION 1 Search (Basic) 1.0 point \n",
    "\n",
    "This question looks at how the RouteProblem works using the \n",
    "classic map of Romania. Modify the map of Romania specified below by adding a connection from Sibiu to Bucharest with a cost of 280. Run **BreadthFirstSearch** and **UniformCostSearch** search for the pair Arad(initial state) to Bucharest (goal state) for the new map **RomaniaNew** that contains the new added connection and print the solution path and associated for each search algorithm. "
   ]
  },
  {
   "cell_type": "code",
   "execution_count": 4,
   "metadata": {},
   "outputs": [],
   "source": [
    "class RouteProblem(Problem):\n",
    "    \"\"\"A problem to find a route between locations on a `Map`.\n",
    "    Create a problem with RouteProblem(start, goal, map=Map(...)}).\n",
    "    States are the vertexes in the Map graph; actions are destination states.\"\"\"\n",
    "        \n",
    "    def actions(self, state): \n",
    "        \"\"\"The places neighboring `state`.\"\"\"\n",
    "        return self.map.neighbors[state]\n",
    "    \n",
    "    def result(self, state, action):\n",
    "        \"\"\"Go to the `action` place, if the map says that is possible.\"\"\"\n",
    "        return action if action in self.map.neighbors[state] else state\n",
    "    \n",
    "    def action_cost(self, s, action, s1):\n",
    "        \"\"\"The distance (cost) to go from s to s1.\"\"\"\n",
    "        return self.map.distances[s, s1]\n",
    "    \n",
    "    def h(self, node):\n",
    "        \"Straight-line distance between state and the goal.\"\n",
    "        locs = self.map.locations\n",
    "        return straight_line_distance(locs[node.state], locs[self.goal])\n",
    "    \n",
    "    \n",
    "def straight_line_distance(A, B):\n",
    "    \"Straight-line distance between two points.\"\n",
    "    return sum(abs(a - b)**2 for (a, b) in zip(A, B)) ** 0.5"
   ]
  },
  {
   "cell_type": "code",
   "execution_count": 5,
   "metadata": {},
   "outputs": [],
   "source": [
    "class Map:\n",
    "    \"\"\"A map of places in a 2D world: a graph with vertexes and links between them. \n",
    "    In `Map(links, locations)`, `links` can be either [(v1, v2)...] pairs, \n",
    "    or a {(v1, v2): distance...} dict. Optional `locations` can be {v1: (x, y)} \n",
    "    If `directed=False` then for every (v1, v2) link, we add a (v2, v1) link.\"\"\"\n",
    "\n",
    "    def __init__(self, links, locations=None, directed=False):\n",
    "        if not hasattr(links, 'items'): # Distances are 1 by default\n",
    "            links = {link: 1 for link in links}\n",
    "        if not directed:\n",
    "            for (v1, v2) in list(links):\n",
    "                links[v2, v1] = links[v1, v2]\n",
    "        self.distances = links\n",
    "        self.neighbors = multimap(links)\n",
    "        self.locations = locations or defaultdict(lambda: (0, 0))\n",
    "\n",
    "        \n",
    "def multimap(pairs) -> dict:\n",
    "    \"Given (key, val) pairs, make a dict of {key: [val,...]}.\"\n",
    "    result = defaultdict(list)\n",
    "    for key, val in pairs:\n",
    "        result[key].append(val)\n",
    "    return result"
   ]
  },
  {
   "cell_type": "code",
   "execution_count": 6,
   "metadata": {},
   "outputs": [
    {
     "name": "stdout",
     "output_type": "stream",
     "text": [
      "['A', 'S', 'R', 'P', 'B']\n",
      "\n"
     ]
    }
   ],
   "source": [
    "# Some specific RouteProblems\n",
    "\n",
    "romania = Map(\n",
    "    {('O', 'Z'):  71, ('O', 'S'): 151, ('A', 'Z'): 75, ('A', 'S'): 140, ('A', 'T'): 118, \n",
    "     ('L', 'T'): 111, ('L', 'M'):  70, ('D', 'M'): 75, ('C', 'D'): 120, ('C', 'R'): 146, \n",
    "     ('C', 'P'): 138, ('R', 'S'):  80, ('F', 'S'): 99, ('B', 'F'): 211, ('B', 'P'): 101, \n",
    "     ('B', 'G'):  90, ('B', 'U'):  85, ('H', 'U'): 98, ('E', 'H'):  86, ('U', 'V'): 142, \n",
    "     ('I', 'V'):  92, ('I', 'N'):  87, ('P', 'R'): 97},\n",
    "    {'A': ( 76, 497), 'B': (400, 327), 'C': (246, 285), 'D': (160, 296), 'E': (558, 294), \n",
    "     'F': (285, 460), 'G': (368, 257), 'H': (548, 355), 'I': (488, 535), 'L': (162, 379),\n",
    "     'M': (160, 343), 'N': (407, 561), 'O': (117, 580), 'P': (311, 372), 'R': (227, 412),\n",
    "     'S': (187, 463), 'T': ( 83, 414), 'U': (471, 363), 'V': (535, 473), 'Z': (92, 539)})\n",
    "\n",
    "\n",
    "r0 = RouteProblem('A', 'A', map=romania)\n",
    "r1 = RouteProblem('A', 'B', map=romania)\n",
    "r2 = RouteProblem('N', 'L', map=romania)\n",
    "r3 = RouteProblem('E', 'T', map=romania)\n",
    "r4 = RouteProblem('O', 'M', map=romania)\n",
    "s1, reached, frontiers = uniform_cost_search(r1)\n",
    "print(path_states(s1))\n",
    "print()\n",
    "# the answer should be ['A', 'S', 'R', 'P', 'B']\n",
    "\n",
    "\n",
    "\n"
   ]
  },
  {
   "cell_type": "code",
   "execution_count": 7,
   "metadata": {},
   "outputs": [
    {
     "name": "stdout",
     "output_type": "stream",
     "text": [
      "Breadth first search path ['A', 'S', 'B']\n",
      "\n",
      "Uniform Cost Search path ['A', 'S', 'R', 'P', 'B']\n"
     ]
    }
   ],
   "source": [
    "# Q1 ANSWER GOES HERE  \n",
    "\n",
    "#Romania map with new link B->S 280\n",
    "RomaniaNew = Map(\n",
    "    {('O', 'Z'):  71, ('O', 'S'): 151, ('A', 'Z'): 75, ('A', 'S'): 140, ('A', 'T'): 118, \n",
    "     ('L', 'T'): 111, ('L', 'M'):  70, ('D', 'M'): 75, ('C', 'D'): 120, ('C', 'R'): 146, \n",
    "     ('C', 'P'): 138, ('R', 'S'):  80, ('F', 'S'): 99, ('B', 'F'): 211, ('B', 'P'): 101, \n",
    "     ('B', 'G'):  90, ('B', 'U'):  85, ('B', 'S'): 280, ('H', 'U'): 98, ('E', 'H'):  86, \n",
    "     ('U', 'V'): 142, ('I', 'V'):  92, ('I', 'N'):  87, ('P', 'R'): 97},\n",
    "    {'A': ( 76, 497), 'B': (400, 327), 'C': (246, 285), 'D': (160, 296), 'E': (558, 294), \n",
    "     'F': (285, 460), 'G': (368, 257), 'H': (548, 355), 'I': (488, 535), 'L': (162, 379),\n",
    "     'M': (160, 343), 'N': (407, 561), 'O': (117, 580), 'P': (311, 372), 'R': (227, 412),\n",
    "     'S': (187, 463), 'T': ( 83, 414), 'U': (471, 363), 'V': (535, 473), 'Z': (92, 539)})\n",
    "\n",
    "ab_problem = RouteProblem('A', 'B', map=RomaniaNew) #create a problem for path from arad to bucharest\n",
    "\n",
    "sol_b, reached_b, frontier_b = breadth_first_bfs(ab_problem) #breadthfirst method\n",
    "sol_u, reached_u, frontier_u = uniform_cost_search(ab_problem) #uniformcost method\n",
    "\n",
    "#solution path\n",
    "print(\"Breadth first search path\", path_states(sol_b))\n",
    "print()\n",
    "print(\"Uniform Cost Search path\",  path_states(sol_u))"
   ]
  },
  {
   "cell_type": "markdown",
   "metadata": {},
   "source": [
    "# QUESTION 2 Search (Basic) 1.0 point \n",
    "\n",
    "Modify the code of **best_first_search** to return a list of the all the frontiers generated while the search algorithm is running. \n",
    "**frontiers** should be a global variable initialized to the empty list when the search algorithm starts running. As the search proceeds the frontier items at each iteration are returned as a list and appended to the **frontiers** list. You can use the **get_items** method of the PriorityQueue to get the current frontier. The number of items/nodes in the frontier correlates to the space complexity (or memory) needed by the algorithm. Output the length of the successive frontiers to see how the space complexity changes over time.   \n"
   ]
  },
  {
   "cell_type": "code",
   "execution_count": 8,
   "metadata": {},
   "outputs": [
    {
     "name": "stdout",
     "output_type": "stream",
     "text": [
      "1\n",
      "3\n",
      "3\n",
      "3\n",
      "4\n",
      "3\n",
      "4\n",
      "4\n",
      "4\n",
      "4\n",
      "4\n",
      "3\n",
      "2\n"
     ]
    }
   ],
   "source": [
    "# TODO Modify best_first_search -> list frontiers\n",
    "# frontiers is a global variable\n",
    "# initialized as an empty list, frontier at each iteration returns as a list and append to *frontiers*\n",
    "# Use get_items of PriorityQueue\n",
    "# Output the length of successive frontiers; length of frontiers is related to space complexity\n",
    "\n",
    "s1, reached, frontierss = uniform_cost_search(r1)\n",
    "for f in frontierss: \n",
    "  print(len(f))\n",
    "# the answer should be \n",
    "# 1\n",
    "# 3\n",
    "# 3\n",
    "# 3\n",
    "# 4\n",
    "# 3\n",
    "# 4\n",
    "# 4\n",
    "# 4\n",
    "# 4 \n",
    "# 4\n",
    "# 3\n",
    "# 2"
   ]
  },
  {
   "cell_type": "code",
   "execution_count": 9,
   "metadata": {},
   "outputs": [
    {
     "name": "stdout",
     "output_type": "stream",
     "text": [
      "1\n",
      "3\n",
      "3\n",
      "3\n",
      "5\n",
      "4\n",
      "5\n",
      "5\n",
      "4\n",
      "4\n",
      "4\n",
      "3\n",
      "2\n"
     ]
    }
   ],
   "source": [
    "# Q2 ANSWER GOES HERE (best_first_search with printing of frontier)\n",
    "def best_first_search(problem, f):\n",
    "    \"Search nodes with minimum f(node) value first.\"\n",
    "    node = Node(problem.initial)\n",
    "    frontier = PriorityQueue([node], key=f)\n",
    "    reached = {problem.initial: node}\n",
    "    global frontiers #make frontiers global \n",
    "    frontiers = [] \n",
    "    while frontier:\n",
    "        frontier_items = frontier.get_items()\n",
    "        frontiers.append(frontier_items)\n",
    "        node = frontier.pop()\n",
    "        \n",
    "        if problem.is_goal(node.state):\n",
    "            return (node,reached,frontiers)\n",
    "        for child in expand(problem, node):\n",
    "            s = child.state\n",
    "            if s not in reached or child.path_cost < reached[s].path_cost:\n",
    "                reached[s] = child\n",
    "                frontier.add(child)\n",
    "        \n",
    "    return (failure, reached, frontiers)\n",
    "\n",
    "uniform_cost_search(ab_problem) # FYI it's to check *frontiers* is a global variable\n",
    "for item in frontiers:\n",
    "    print(len(item))\n",
    "\n"
   ]
  },
  {
   "cell_type": "markdown",
   "metadata": {},
   "source": [
    "# QUESTION 3 Search (Expected) 1.0 point \n",
    "\n",
    "Write your own search algorithm called **random_search**. In this search algorithm the node selected for expansion is selected randomly from the frontier (with uniform probability among the possible nodes). Do not modify *best_first_search* but rather \n",
    "assign random priorities to each node. Use **random.seed(10.0)** to ensure reproducibility. \n",
    "\n",
    "Use the new algorithm to run it for the r1 pair (Arad to Buchararest) on the RomaniaNew map also showing \n",
    "how the frontier (not just the length evolves over time). \n"
   ]
  },
  {
   "cell_type": "code",
   "execution_count": 10,
   "metadata": {},
   "outputs": [
    {
     "name": "stdout",
     "output_type": "stream",
     "text": [
      "[(('A', 0), <A>)]\n",
      "1\n",
      "[(('A', 3), <T>), (('Z', 1), <Z>), (('S', 2), <S>)]\n",
      "3\n",
      "[(('A', 4), <L>), (('Z', 1), <Z>), (('S', 2), <S>)]\n",
      "3\n",
      "[(('M', 5), <M>), (('Z', 1), <Z>), (('S', 2), <S>)]\n",
      "3\n",
      "[(('M', 6), <D>), (('Z', 1), <Z>), (('S', 2), <S>)]\n",
      "3\n",
      "[(('L', 7), <C>), (('Z', 1), <Z>), (('S', 2), <S>)]\n",
      "3\n",
      "[(('C', 8), <R>), (('P', 9), <P>), (('S', 2), <S>), (('Z', 1), <Z>)]\n",
      "4\n",
      "[(('P', 9), <P>), (('Z', 1), <Z>), (('S', 2), <S>)]\n",
      "3\n",
      "[(('L', 10), <B>), (('Z', 1), <Z>), (('S', 2), <S>)]\n",
      "3\n"
     ]
    }
   ],
   "source": [
    "# Q3 ANSWER GOES HERE (random_search)\n",
    "\n",
    "def random_search_help(n):\n",
    "    return random.choice(path_states(n))\n",
    "\n",
    "def random_search(Problem):\n",
    "    return best_first_search(Problem, f=random_search_help)\n",
    "\n",
    "random.seed(10)\n",
    "sol_random, reached_random, frontier_random = random_search(r1)\n",
    "for item in frontier_random:\n",
    "    print(item)\n",
    "    print(len(item))"
   ]
  },
  {
   "cell_type": "markdown",
   "metadata": {},
   "source": [
    "# QUESTION 4 Search (Expected) 1.0 point \n",
    "\n",
    "Create a new class of search problems called **GridProblemMod** \n",
    "by modifying and renaming the **GridProblem** class below appropriately. The two modifications that you will need to implement in this question are to restrict the directions the agent can move to so that no diagonal movement is allowed i.e only up/right/down/left movement using that order. Unlike the original **GridProblem**, in this case the grid will be finite. Add a parameter to the __init__ method called size that determines the size $N$ of the land grid which is a $N$ by $N$ square. The movement should implement wrap-around using modulo arithmetic i.e if the agent in a grid of size $10$ is in square $(0,5)$ and the action $(-1,5)$ is applied then the agent should move to square $(10,5)$. Another way to think of it is that when the agent reaches the boundary of the land grid they **jump** to the other side. The path shown below demonstrates this wrap-around behavior. \n"
   ]
  },
  {
   "cell_type": "code",
   "execution_count": 11,
   "metadata": {},
   "outputs": [],
   "source": [
    "class GridProblem(Problem):\n",
    "    \"\"\"Finding a path on a 2D grid with obstacles. Obstacles are (x, y) cells.\"\"\"\n",
    "\n",
    "    def __init__(self, initial=(15, 30), goal=(130, 30), obstacles=(), **kwds):\n",
    "        Problem.__init__(self, initial=initial, goal=goal, \n",
    "                         obstacles=set(obstacles) - {initial, goal}, **kwds)\n",
    "\n",
    "    directions = [(-1, -1), (0, -1), (1, -1),\n",
    "                  (-1, 0),           (1,  0),\n",
    "                  (-1, +1), (0, +1), (1, +1)]\n",
    "    \n",
    "    def action_cost(self, s, action, s1): return straight_line_distance(s, s1)\n",
    "    \n",
    "    def h(self, node): return straight_line_distance(node.state, self.goal)\n",
    "                  \n",
    "    def result(self, state, action): \n",
    "        \"Both states and actions are represented by (x, y) pairs.\"\n",
    "        return action if action not in self.obstacles else state\n",
    "    \n",
    "    def actions(self, state):\n",
    "        \"\"\"You can move one cell in any of `directions` to a non-obstacle cell.\"\"\"\n",
    "        x, y = state\n",
    "        return {(x + dx, y + dy) for (dx, dy) in self.directions} - self.obstacles\n",
    "\n",
    "def straight_line_distance(A, B):\n",
    "    \"Straight-line distance between two points.\"\n",
    "    return sum(abs(a - b)**2 for (a, b) in zip(A, B)) ** 0.5\n",
    "\n",
    "def transpose(matrix): return list(zip(*matrix))\n"
   ]
  },
  {
   "cell_type": "code",
   "execution_count": 12,
   "metadata": {},
   "outputs": [
    {
     "name": "stdout",
     "output_type": "stream",
     "text": [
      "[(2, 2), (2, 3), (2, 4), (2, 5), (2, 6), (1, 6), (0, 6), (9, 6), (8, 6), (7, 6)]\n"
     ]
    }
   ],
   "source": [
    "# question 4 ANSWER GOES HERE \n",
    "# add your GridProblemNew class \n",
    "# and then check that the code provided works \n",
    "# and produces the desired output \n",
    "# you can add some check of your own to \n",
    "# see how things work \n",
    "class GridProblemNew(Problem):\n",
    "    \n",
    "    def __init__(self, initial=None, goal=None, obstacles=(), size=None, **kwds):\n",
    "        Problem.__init__(self, initial=initial, goal=goal, obstacles=set(obstacles) - {initial, goal}, size=size, **kwds) #size of grid N*N\n",
    "\n",
    "    directions = [(-1, 0), (1, 0), (0, 1), (0, -1)] # left, right, down, up\n",
    "    \n",
    "    def action_cost(self, s, action, s1): return straight_line_distance(s, s1)\n",
    "    \n",
    "    def h(self, node): return straight_line_distance(node.state, self.goal)\n",
    "    \n",
    "    def result(self, state, action):\n",
    "        \"Both states and actions are represented by (x, y) pairs.\"    \n",
    "        return action if action not in self.obstacles else state\n",
    "    \n",
    "    def actions(self, state):\n",
    "        \"\"\"You can move one cell in any of `directions` to a non-obstacle cell.\"\"\"\n",
    "        x, y = state       \n",
    "        return {((x + dx)%self.size, (y + dy)%self.size) for (dx, dy) in self.directions} - self.obstacles\n",
    "    \n",
    "def straight_line_distance(A, B):\n",
    "    \"Straight-line distance between two points.\"\n",
    "    return sum(abs(a - b)**2 for (a, b) in zip(A, B)) ** 0.5\n",
    "    \n",
    "def transpose(matrix): return list(zip(*matrix))\n",
    "\n",
    "g1 = GridProblemNew(initial = (2,2), goal = (7,6), size=10)\n",
    "(bfs_g1, reached, frontiers) = breadth_first_bfs(g1)\n",
    "print(path_states(bfs_g1))\n",
    "# desired answer \n",
    "# [(2, 2), (2, 3), (2, 4), (2, 5), (2, 6), (1, 6), (0, 6), (9, 6), (8, 6), (7, 6)]"
   ]
  },
  {
   "cell_type": "markdown",
   "metadata": {
    "editable": true,
    "slideshow": {
     "slide_type": ""
    },
    "tags": []
   },
   "source": [
    "# QUESTION 5 Search (Expected) 1.0 point \n",
    "\n",
    "Create a new class of search problems called **LandGridProblem** \n",
    "by modifying and renaming the **GridProblemMod** class you did in the previous question. \n",
    "Each location on the LandGrid has an associated number representing the \"cost\" of going through \n",
    "that location. Grass corresponds to 1, hills correspond to 2, and mountains correspond to 3. \n",
    "This is similar to tile-based board games such as Settlers of Catan or computer games such as Civilization. \n",
    "Some code for creating, printing, and plotting land grids is provided below. Here is the __init__ \n",
    "function you will need to use. \n",
    "\n",
    "```\n",
    "def __init__(self, initial=(2, 2), goal=(4, 4), land_grid=[], **kwds):\n",
    "    size = len(land_grid)\n",
    "    Problem.__init__(self, initial=initial, goal=goal,land_grid = land_grid, size = size, **kwds)\n",
    "```\n",
    "\n",
    "You will need to modify the action_cost method to take into account the land cost. So if a path contains \n",
    "two grass squares, three hills, and one mountain the total path cost will be $2 * 1 + 3 * 2 + 1 * 3 = 10$. \n"
   ]
  },
  {
   "cell_type": "code",
   "execution_count": 13,
   "metadata": {
    "editable": true,
    "slideshow": {
     "slide_type": ""
    },
    "tags": []
   },
   "outputs": [
    {
     "name": "stdout",
     "output_type": "stream",
     "text": [
      "[[3, 2, 3, 1, 3, 3, 1, 2, 1, 2], [2, 3, 1, 1, 2, 1, 3, 1, 1, 1], [1, 3, 3, 2, 3, 2, 3, 1, 2, 1], [1, 3, 3, 2, 2, 3, 1, 3, 2, 3], [3, 1, 3, 2, 2, 1, 2, 2, 2, 3], [1, 1, 1, 3, 2, 1, 1, 2, 3, 3], [2, 1, 3, 3, 1, 2, 3, 2, 3, 2], [3, 2, 3, 2, 1, 1, 3, 1, 2, 2], [2, 2, 2, 3, 2, 3, 3, 1, 3, 1], [1, 3, 2, 2, 3, 1, 1, 2, 2, 2]]\n"
     ]
    }
   ],
   "source": [
    "land_grid1 = [[1,1,2,3,3],[1,2,1,3,1],[1,1,3,1,1],[2,2,2,3,3],[3,1,1,1,1]]\n",
    "land_grid2 = [[1,1,1,1,1],[1,1,1,1,1],[1,1,1,1,1],[1,1,1,1,1],[1,1,1,1,1]]\n",
    "\n",
    "def create_uniform_land_grid(n): \n",
    "    column = [1] * n\n",
    "    grid = [column] * n \n",
    "    return grid \n",
    "\n",
    "def create_random_land_grid(n): \n",
    "    matrix = [] \n",
    "    random.seed(30)\n",
    "    for i in range(0,n): \n",
    "        row = [] \n",
    "        for i in range(0,n): \n",
    "            row.append(random.randint(1, 3))\n",
    "        matrix.append(row)\n",
    "    return matrix \n",
    "    \n",
    "land_grid3 = create_uniform_land_grid(10) \n",
    "land_grid4 = create_random_land_grid(10)\n",
    "\n",
    "print(land_grid4)"
   ]
  },
  {
   "cell_type": "code",
   "execution_count": 14,
   "metadata": {
    "editable": true,
    "slideshow": {
     "slide_type": ""
    },
    "tags": []
   },
   "outputs": [],
   "source": [
    "# QUESTION 5 ANSWER GOES HERE\n",
    "class LandgridProblem(Problem):\n",
    "    \n",
    "    def __init__(self, initial=(2, 2), goal=(4, 4), land_grid=[], **kwds):\n",
    "        size = len(land_grid)\n",
    "        Problem.__init__(self, initial=initial, goal=goal,land_grid = land_grid, size = size, **kwds)\n",
    "\n",
    "    directions = [(-1, 0), (1, 0), (0, 1), (0, -1)] # left, right, down, up\n",
    "    \n",
    "    # TODO IMPLEMENT action_cost, use land_grid[i][j] to get the corresponding tile number then cost\n",
    "    def action_cost(self, s, action, s1):\n",
    "        grid_x, grid_y = s1\n",
    "        return (straight_line_distance(s, s1) * self.land_grid[grid_x][grid_y])\n",
    "    \n",
    "    def h(self, node): return straight_line_distance(node.state, self.goal)\n",
    "    \n",
    "    def result(self, state, action):\n",
    "        \"Both states and actions are represented by (x, y) pairs.\"    \n",
    "        return action\n",
    "    \n",
    "    def actions(self, state):\n",
    "        \"\"\"You can move one cell in any of `directions` to a non-obstacle cell.\"\"\"\n",
    "        x, y = state       \n",
    "        return {((x + dx)%self.size, (y + dy)%self.size) for (dx, dy) in self.directions}\n",
    "    \n",
    "def straight_line_distance(A, B):\n",
    "    \"Straight-line distance between two points.\"\n",
    "    return sum(abs(a - b)**2 for (a, b) in zip(A, B)) ** 0.5\n",
    "    \n",
    "def transpose(matrix): return list(zip(*matrix))\n",
    "\n"
   ]
  },
  {
   "cell_type": "code",
   "execution_count": 15,
   "metadata": {},
   "outputs": [],
   "source": [
    "def plot_grid_problem(grid, solution, reached=(), title='Search', show=True):\n",
    "    \"Use matplotlib to plot the grid, obstacles, solution, and reached.\"\n",
    "    grass_points = [] \n",
    "    hill_points = [] \n",
    "    mountain_points = [] \n",
    "    for i in range(0,grid.size): \n",
    "        for j in range(0,grid.size): \n",
    "            if (grid.land_grid[i][j] == 1): \n",
    "                grass_points.append((i,j))\n",
    "            elif (grid.land_grid[i][j] == 2): \n",
    "                hill_points.append((i,j))\n",
    "            elif (grid.land_grid[i][j] == 3): \n",
    "                mountain_points.append((i,j))\n",
    "    \n",
    "    nlocations =  grid.size\n",
    "    plt.figure(figsize=(5, 5))\n",
    "    plt.axis('on'); \n",
    "    plt.xlim((-0.5,nlocations-0.5))\n",
    "    plt.ylim((-0.5,nlocations-0.5))\n",
    "    if (grass_points):\n",
    "        plt.scatter(*transpose(grass_points), (250 / nlocations) **2, marker='s', c='green')\n",
    "    if (hill_points): \n",
    "        plt.scatter(*transpose(hill_points), (250 / nlocations) **2, marker='s', c='yellow')\n",
    "    if (mountain_points): \n",
    "        plt.scatter(*transpose(mountain_points), (250 / nlocations) **2, marker='s', c='black')\n",
    "    plt.scatter(*transpose(reached), (50/nlocations)**2, marker='o', c='blue')\n",
    "    plt.scatter(*transpose(path_states(solution)), (100 / nlocations) **2,marker='s', c='red')\n",
    "    plt.scatter(*transpose([grid.initial]), (125/nlocations)**2, marker='8', c='orange')\n",
    "    plt.scatter(*transpose([grid.goal]), (125/nlocations)**2, marker='*', c='orange')\n",
    "    if show: plt.show()\n",
    "    print('{} {} search: {:.1f} path cost, {:,d} states reached'\n",
    "          .format(' ' * 10, title, solution.path_cost, len(reached)))"
   ]
  },
  {
   "cell_type": "code",
   "execution_count": 16,
   "metadata": {
    "editable": true,
    "slideshow": {
     "slide_type": ""
    },
    "tags": []
   },
   "outputs": [
    {
     "data": {
      "image/png": "[encoded data removed]",
      "text/plain": [
       "<Figure size 500x500 with 1 Axes>"
      ]
     },
     "metadata": {},
     "output_type": "display_data"
    },
    {
     "name": "stdout",
     "output_type": "stream",
     "text": [
      "           BFS search: 6.0 path cost, 25 states reached\n"
     ]
    },
    {
     "data": {
      "image/png": "[encoded data removed]",
      "text/plain": [
       "<Figure size 500x500 with 1 Axes>"
      ]
     },
     "metadata": {},
     "output_type": "display_data"
    },
    {
     "name": "stdout",
     "output_type": "stream",
     "text": [
      "           UniformCost search: 5.0 path cost, 25 states reached\n"
     ]
    },
    {
     "data": {
      "image/png": "[encoded data removed]",
      "text/plain": [
       "<Figure size 500x500 with 1 Axes>"
      ]
     },
     "metadata": {},
     "output_type": "display_data"
    },
    {
     "name": "stdout",
     "output_type": "stream",
     "text": [
      "           A* search search: 5.0 path cost, 19 states reached\n",
      "[(2, 2), (2, 3), (2, 4), (2, 5), (2, 6), (1, 6), (0, 6), (9, 6), (8, 6), (7, 6)]\n"
     ]
    },
    {
     "data": {
      "image/png": "[encoded data removed]",
      "text/plain": [
       "<Figure size 500x500 with 1 Axes>"
      ]
     },
     "metadata": {},
     "output_type": "display_data"
    },
    {
     "name": "stdout",
     "output_type": "stream",
     "text": [
      "           BFS search: 17.0 path cost, 100 states reached\n"
     ]
    },
    {
     "data": {
      "image/png": "[encoded data removed]",
      "text/plain": [
       "<Figure size 500x500 with 1 Axes>"
      ]
     },
     "metadata": {},
     "output_type": "display_data"
    },
    {
     "name": "stdout",
     "output_type": "stream",
     "text": [
      "           BFS search: 29.0 path cost, 100 states reached\n"
     ]
    },
    {
     "data": {
      "image/png": "[encoded data removed]",
      "text/plain": [
       "<Figure size 500x500 with 1 Axes>"
      ]
     },
     "metadata": {},
     "output_type": "display_data"
    },
    {
     "name": "stdout",
     "output_type": "stream",
     "text": [
      "           UCF search: 16.0 path cost, 96 states reached\n"
     ]
    },
    {
     "data": {
      "image/png": "[encoded data removed]",
      "text/plain": [
       "<Figure size 500x500 with 1 Axes>"
      ]
     },
     "metadata": {},
     "output_type": "display_data"
    },
    {
     "name": "stdout",
     "output_type": "stream",
     "text": [
      "           A* search: 16.0 path cost, 78 states reached\n"
     ]
    },
    {
     "data": {
      "image/png": "[encoded data removed]",
      "text/plain": [
       "<Figure size 500x500 with 1 Axes>"
      ]
     },
     "metadata": {},
     "output_type": "display_data"
    },
    {
     "name": "stdout",
     "output_type": "stream",
     "text": [
      "           Greedy search: 21.0 path cost, 24 states reached\n"
     ]
    }
   ],
   "source": [
    "# This code will not work until you have implemented appropriately the LandGridProblem class \n",
    "\n",
    "d1 = LandgridProblem(initial = (2,2), land_grid = land_grid1)\n",
    "(bfs_d1, reached, frontiers) = breadth_first_bfs(d1)\n",
    "plot_grid_problem(d1, bfs_d1, reached, title='BFS', show=True)\n",
    "(ucs_d1, reached, frontiers) = uniform_cost_search(d1) \n",
    "plot_grid_problem(d1, ucs_d1, reached, title='UniformCost', show=True)\n",
    "(ass_d1, reached, frontiers) = astar_search(d1)\n",
    "plot_grid_problem(d1, ass_d1, reached, title='A* search', show=True)\n",
    "\n",
    "\n",
    "d3 = LandgridProblem(initial = (2,2), goal=(7,6), land_grid = land_grid3)\n",
    "(bfs_d3, reached, frontiers)= breadth_first_bfs(d3)\n",
    "print(path_states(bfs_d3))\n",
    "plot_grid_problem(d3, bfs_d3, reached, title='BFS', show=True)\n",
    "\n",
    "\n",
    "d4 = LandgridProblem(initial = (2,2), goal=(7,6), land_grid = land_grid4)\n",
    "(bfs_d4, reached, frontiers) = breadth_first_bfs(d4)\n",
    "plot_grid_problem(d4, bfs_d4, reached, title='BFS', show=True)\n",
    "(ucs_d4, reached, frontiers) = uniform_cost_search(d4)\n",
    "plot_grid_problem(d4, ucs_d4, reached, title='UCF', show=True)\n",
    "(ass_d4, reached, frontiers) = astar_search(d4)\n",
    "plot_grid_problem(d4, ass_d4, reached, title='A*', show=True)\n",
    "(grs_d4, reached, frontiers) = greedy_bfs(d4)\n",
    "plot_grid_problem(d4, grs_d4, reached, title='Greedy', show=True)"
   ]
  },
  {
   "cell_type": "markdown",
   "metadata": {
    "editable": true,
    "slideshow": {
     "slide_type": ""
    },
    "tags": []
   },
   "source": [
    "# QUESTION 6 SEARCH (EXPECTED) \n",
    "\n",
    "The **LandgridProblem** you have implemented uses the straight-line heuristic to guide informed search algorithms. \n",
    "Add a **Manhattan distance** heuristic to your implementation. The choice of heuristic should be specified by an argument to the LandGridProblem.\n",
    "\n",
    "For example: \n",
    "```\n",
    "d4_h1 = LandgridProblem(initial = (2,2), goal=(7,6), land_grid = land_grid4, heuristic='straight')\n",
    "d4_h2 = LandgridProblem(initial = (2,2), goal=(7,6), land_grid = land_grid4, heuristic='manhattan')\n",
    "```\n",
    "The **Manhattan distance** between two points $(x_1, y_1)$ and $(x_2, y_2)$ is defined as $|x_2 - x_1| + |y_2 - y_1|$. \n",
    "\n",
    "Show the plots of the solutions to the d4 LandgridProblem instance from the previous questions using the \n",
    "$Manhattan distance$ heuristic. "
   ]
  },
  {
   "cell_type": "code",
   "execution_count": 17,
   "metadata": {},
   "outputs": [
    {
     "name": "stdout",
     "output_type": "stream",
     "text": [
      "[(2, 2), (2, 3), (2, 4), (2, 5), (2, 6), (1, 6), (0, 6), (9, 6), (8, 6), (7, 6)]\n"
     ]
    },
    {
     "data": {
      "image/png": "[encoded data removed]",
      "text/plain": [
       "<Figure size 500x500 with 1 Axes>"
      ]
     },
     "metadata": {},
     "output_type": "display_data"
    },
    {
     "name": "stdout",
     "output_type": "stream",
     "text": [
      "           BFS search: 8.0 path cost, 100 states reached\n"
     ]
    },
    {
     "data": {
      "image/png": "[encoded data removed]",
      "text/plain": [
       "<Figure size 500x500 with 1 Axes>"
      ]
     },
     "metadata": {},
     "output_type": "display_data"
    },
    {
     "name": "stdout",
     "output_type": "stream",
     "text": [
      "           BFS search: 20.0 path cost, 100 states reached\n"
     ]
    },
    {
     "data": {
      "image/png": "[encoded data removed]",
      "text/plain": [
       "<Figure size 500x500 with 1 Axes>"
      ]
     },
     "metadata": {},
     "output_type": "display_data"
    },
    {
     "name": "stdout",
     "output_type": "stream",
     "text": [
      "           UCF search: 13.0 path cost, 100 states reached\n"
     ]
    },
    {
     "data": {
      "image/png": "[encoded data removed]",
      "text/plain": [
       "<Figure size 500x500 with 1 Axes>"
      ]
     },
     "metadata": {},
     "output_type": "display_data"
    },
    {
     "name": "stdout",
     "output_type": "stream",
     "text": [
      "           A* search: 13.0 path cost, 85 states reached\n"
     ]
    },
    {
     "data": {
      "image/png": "[encoded data removed]",
      "text/plain": [
       "<Figure size 500x500 with 1 Axes>"
      ]
     },
     "metadata": {},
     "output_type": "display_data"
    },
    {
     "name": "stdout",
     "output_type": "stream",
     "text": [
      "           Greedy search: 21.0 path cost, 24 states reached\n"
     ]
    }
   ],
   "source": [
    "# QUESTION 6 ANSWER GOES HERE\n",
    "class LandgridProblem_M(Problem):\n",
    "    \n",
    "    def __init__(self, initial=(2, 2), goal=(4, 4), land_grid=[], heurustic = \"\", **kwds):\n",
    "        size = len(land_grid)\n",
    "        Problem.__init__(self, initial=initial, goal=goal,land_grid = land_grid, size = size, heurustic = heurustic, **kwds)\n",
    "\n",
    "    directions = [(-1, 0), (1, 0), (0, 1), (0, -1)] # left, right, down, up\n",
    "    \n",
    "    # TODO IMPLEMENT action_cost, use land_grid[i][j] to get the corresponding tile number then cost\n",
    "    def action_cost(self, s, action, s1):\n",
    "        grid_x, grid_y = s1\n",
    "        if self.heurustic == \"straight\":\n",
    "            return (straight_line_distance(s, s1) * self.land_grid[grid_x][grid_y])\n",
    "        elif self.heurustic == \"manhattan\":\n",
    "            return (Manhattan_distance(self.size, s, s1) * self.land_grid[grid_x][grid_y])\n",
    "    \n",
    "    def h(self, node): return straight_line_distance(node.state, self.goal)\n",
    "    \n",
    "    def result(self, state, action):\n",
    "        \"Both states and actions are represented by (x, y) pairs.\"    \n",
    "        return action\n",
    "    \n",
    "    def actions(self, state):\n",
    "        \"\"\"You can move one cell in any of `directions` to a non-obstacle cell.\"\"\"\n",
    "        x, y = state       \n",
    "        return {((x + dx)%self.size, (y + dy)%self.size) for (dx, dy) in self.directions}\n",
    "    \n",
    "def straight_line_distance(A, B):\n",
    "    \"Straight-line distance between two points.\"\n",
    "    return sum(abs(a - b)**2 for (a, b) in zip(A, B)) ** 0.5\n",
    "\n",
    "def Manhattan_distance(size, A, B):\n",
    "    x_list = []\n",
    "    y_list = []\n",
    "    for item in range(size):\n",
    "        for order in range(size):\n",
    "            x_list.append(order)\n",
    "            y_list.append(item)\n",
    "    return sum(abs(x_list[a] - x_list[b]) + abs(y_list[a] - y_list[b]) for (a, b) in zip(A, B) if a != 0)    \n",
    "    \n",
    "def transpose(matrix): return list(zip(*matrix))\n",
    "\n",
    "d3_h1 = LandgridProblem_M(initial = (2,2), goal=(7,6), land_grid = land_grid3, heurustic = \"manhattan\")\n",
    "(bfs_d3, reached, frontiers)= breadth_first_bfs(d3_h1)\n",
    "print(path_states(bfs_d3))\n",
    "plot_grid_problem(d3_h1, bfs_d3, reached, title='BFS', show=True)\n",
    "\n",
    "d4_h2 = LandgridProblem_M(initial = (2,2), goal=(7,6), land_grid = land_grid4, heurustic = \"manhattan\")\n",
    "(bfs_d4, reached, frontiers) = breadth_first_bfs(d4_h2)\n",
    "plot_grid_problem(d4_h2, bfs_d4, reached, title='BFS', show=True)\n",
    "(ucs_d4, reached, frontiers) = uniform_cost_search(d4_h2)\n",
    "plot_grid_problem(d4_h2, ucs_d4, reached, title='UCF', show=True)\n",
    "(ass_d4, reached, frontiers) = astar_search(d4_h2)\n",
    "plot_grid_problem(d4_h2, ass_d4, reached, title='A*', show=True)\n",
    "(grs_d4, reached, frontiers) = greedy_bfs(d4_h2)\n",
    "plot_grid_problem(d4_h2, grs_d4, reached, title='Greedy', show=True)"
   ]
  },
  {
   "cell_type": "markdown",
   "metadata": {},
   "source": [
    "# QUESTION 7 SEARCH (Advanced) 1.0 point \n",
    "\n",
    "There are two variants of this question. You can implement either one of them or both. The maximum you \n",
    "can get is 1 point. \n",
    "\n",
    "## VARIANT 1 - Experimental comparison of different search strategies and improving heuristics \n",
    "\n",
    "Add random obstacles (similar to the GridProblem in the searching notebook provided by the textbook \n",
    "in addition to land types. Neither the straightline heuristic or the Manhattan distance are \n",
    "admissable/consistent for the LandgridProblem because they don't take into account the modulo \n",
    "wrap-around. See if you can come up with a better heuristic that is admissable - you can use \n",
    "search on simpler version of the problem to pre-calculate the heuristic. Do a thorough \n",
    "comparison of time complexity (the number of nodes reached), space complexisty (the maximum \n",
    "size of the frontier), number of steps, and path cost for 100 random configurations of a 10 by 10 \n",
    "grid with 100 random initial states, and goals, and random land grids. Also measure the \n",
    "time it takes to complete the experiment on your hardware for each search algorithm. Compare the following \n",
    "search algorithms by taking the average of all these metrics: breadth-first search, uniform-cost search, \n",
    "greedy search, A*-search, and Random Search as well as considering all three heuristics straight-line, \n",
    "manahattan, and the one you define. \n",
    "\n",
    "## VARIANT 2 - Visualization and animation of search algorithms \n",
    "\n",
    "Modify the land-grid plot fuction to show random obstacles (similar to the GridProblem in the \n",
    "searching notebook provided by the textbook). Change the code for best-first search so that \n",
    "the plotting happens inside the search and show the results of the search incrementally at each \n",
    "step. Your first version should generate a single plot for each iteration. Read about how to \n",
    "create animation in matplotlib and modify your code so that it can generate an animation that \n",
    "shows nicely the evolution of the search algorithm in terms of reached nodes, frontier, etc. \n",
    "Don't hesitate to be creative in how this is done. \n",
    "\n"
   ]
  },
  {
   "cell_type": "code",
   "execution_count": 18,
   "metadata": {},
   "outputs": [],
   "source": [
    "# QUESTION 7 ANSWER GOES HERE "
   ]
  },
  {
   "cell_type": "markdown",
   "metadata": {},
   "source": [
    "# QUESTION 8 CSP (Basic) 1.0 point \n",
    "\n",
    "\n",
    "Let's look at a simple basic implemetation of recursive backgtracking search for solving CSP problems. "
   ]
  },
  {
   "cell_type": "code",
   "execution_count": 19,
   "metadata": {},
   "outputs": [],
   "source": [
    "def isComplete(assignment):\n",
    "    return None not in (assignment.values())\n",
    "\n",
    "def select_unassigned_variable(variables, assignment):\n",
    "    for var in variables:\n",
    "        if assignment[var] is None:\n",
    "            return var\n",
    "\n",
    "def is_consistent(assignment, constraints):\n",
    "    for constraint_violated in constraints:\n",
    "        if constraint_violated(assignment):\n",
    "          return False\n",
    "    return True\n",
    "\n",
    "def init_assignment(csp):\n",
    "    assignment = {}\n",
    "    for var in csp[\"VARIABLES\"]:\n",
    "        assignment[var] = None\n",
    "    return assignment\n",
    "\n",
    "def add_constraint(csp, constraint): \n",
    "    csp['CONSTRAINTS'].append(constraint)\n",
    "    \n",
    "def recursive_backtracking(assignment, csp):\n",
    "    if isComplete(assignment):\n",
    "        return assignment\n",
    "    var = select_unassigned_variable(csp[\"VARIABLES\"], assignment)\n",
    "    for value in csp[\"DOMAINS\"]:\n",
    "        assignment[var] = value\n",
    "        # print(assignment[var])\n",
    "        if is_consistent(assignment, csp[\"CONSTRAINTS\"]):\n",
    "            result = recursive_backtracking(assignment, csp)\n",
    "            if result != \"FAILURE\":\n",
    "                return result\n",
    "        assignment[var] = None\n",
    "    return \"FAILURE\"\n",
    "\n",
    "\n",
    "def binary_constraint(var_pair, violations):\n",
    "    (v1,v2) = var_pair\n",
    "    return lambda asmt: (asmt[v1], asmt[v2]) in violations\n"
   ]
  },
  {
   "cell_type": "markdown",
   "metadata": {},
   "source": [
    "We can use this implementation to solve the Australia map coloring problem. Before working on this question make sure you understand how the code works. \n",
    "\n",
    "1. Print the assignment of variables to values during the recursive backtracking search \n",
    "2. Suppose that we want to enforce that Westeran Australia (WA) should be blue in our solution. \n",
    "Create an initial assignment to pass as the first argument to the recursive backtracking to achieve that. \n",
    "3. Add a unary constraint function. Similarly to binary constraint it should return a function that takes \n",
    "as input an assignment and return true if the assignment violates the constraint. Show how this new unary \n",
    "constraint can be used to enforce that WA is blue and T is blue in the resulting solution. "
   ]
  },
  {
   "cell_type": "code",
   "execution_count": 20,
   "metadata": {},
   "outputs": [],
   "source": [
    "# csp1 = {\"VARIABLES\": [\"WA\", \"NT\", \"Q\", \"NSW\", \"V\", \"SA\", \"T\"],\n",
    "#         \"DOMAINS\": [\"red\", \"green\", \"blue\"],\n",
    "#         \"CONSTRAINTS\": []}\n",
    "\n",
    "# violations = {('red','red'), ('green','green'), ('blue','blue')}\n",
    "\n",
    "# for (v1,v2) in [('WA', 'NT'), ('WA', 'SA'), \n",
    "#                 ('NT', 'SA'), ('NT', 'Q'), \n",
    "#                 ('SA', 'Q'), ('SA', 'NSW'), \n",
    "#                 ('SA', 'V'),('Q', 'NSW'), \n",
    "#                 ('V', 'T')]: \n",
    "#     add_constraint(csp1, binary_constraint((v1,v2), violations))\n",
    "\n",
    "# add_constraint(csp1, unary_constraint('WA', ['red','green']))\n",
    "# result = recursive_backtracking(init_assignment(csp1), csp1)\n",
    "# print('Result', result)\n"
   ]
  },
  {
   "cell_type": "code",
   "execution_count": 25,
   "metadata": {},
   "outputs": [
    {
     "name": "stdout",
     "output_type": "stream",
     "text": [
      "dict_values(['red', None, None, None, None, None, None])\n",
      "dict_values(['green', None, None, None, None, None, None])\n",
      "dict_values(['blue', None, None, None, None, None, None])\n",
      "dict_values(['blue', 'red', None, None, None, None, None])\n",
      "dict_values(['blue', 'red', 'red', None, None, None, None])\n",
      "dict_values(['blue', 'red', 'green', None, None, None, None])\n",
      "dict_values(['blue', 'red', 'green', 'red', None, None, None])\n",
      "dict_values(['blue', 'red', 'green', 'red', 'red', None, None])\n",
      "dict_values(['blue', 'red', 'green', 'red', 'red', 'red', None])\n",
      "dict_values(['blue', 'red', 'green', 'red', 'red', 'green', None])\n",
      "dict_values(['blue', 'red', 'green', 'red', 'red', 'blue', None])\n",
      "dict_values(['blue', 'red', 'green', 'red', 'green', None, None])\n",
      "dict_values(['blue', 'red', 'green', 'red', 'green', 'red', None])\n",
      "dict_values(['blue', 'red', 'green', 'red', 'green', 'green', None])\n",
      "dict_values(['blue', 'red', 'green', 'red', 'green', 'blue', None])\n",
      "dict_values(['blue', 'red', 'green', 'red', 'blue', None, None])\n",
      "dict_values(['blue', 'red', 'green', 'red', 'blue', 'red', None])\n",
      "dict_values(['blue', 'red', 'green', 'red', 'blue', 'green', None])\n",
      "dict_values(['blue', 'red', 'green', 'red', 'blue', 'blue', None])\n",
      "dict_values(['blue', 'red', 'green', 'green', None, None, None])\n",
      "dict_values(['blue', 'red', 'green', 'blue', None, None, None])\n",
      "dict_values(['blue', 'red', 'green', 'blue', 'red', None, None])\n",
      "dict_values(['blue', 'red', 'green', 'blue', 'red', 'red', None])\n",
      "dict_values(['blue', 'red', 'green', 'blue', 'red', 'green', None])\n",
      "dict_values(['blue', 'red', 'green', 'blue', 'red', 'blue', None])\n",
      "dict_values(['blue', 'red', 'green', 'blue', 'green', None, None])\n",
      "dict_values(['blue', 'red', 'green', 'blue', 'green', 'red', None])\n",
      "dict_values(['blue', 'red', 'green', 'blue', 'green', 'green', None])\n",
      "dict_values(['blue', 'red', 'green', 'blue', 'green', 'blue', None])\n",
      "dict_values(['blue', 'red', 'green', 'blue', 'blue', None, None])\n",
      "dict_values(['blue', 'red', 'green', 'blue', 'blue', 'red', None])\n",
      "dict_values(['blue', 'red', 'green', 'blue', 'blue', 'green', None])\n",
      "dict_values(['blue', 'red', 'green', 'blue', 'blue', 'blue', None])\n",
      "dict_values(['blue', 'red', 'blue', None, None, None, None])\n",
      "dict_values(['blue', 'red', 'blue', 'red', None, None, None])\n",
      "dict_values(['blue', 'red', 'blue', 'red', 'red', None, None])\n",
      "dict_values(['blue', 'red', 'blue', 'red', 'red', 'red', None])\n",
      "dict_values(['blue', 'red', 'blue', 'red', 'red', 'green', None])\n",
      "dict_values(['blue', 'red', 'blue', 'red', 'red', 'green', 'red'])\n",
      "dict_values(['blue', 'red', 'blue', 'red', 'red', 'green', 'green'])\n",
      "Result {'WA': 'blue', 'NT': 'red', 'Q': 'blue', 'NSW': 'red', 'V': 'red', 'SA': 'green', 'T': 'green'}\n",
      "csp {'VARIABLES': ['WA', 'NT', 'Q', 'NSW', 'V', 'SA', 'T'], 'DOMAINS': ['red', 'green', 'blue'], 'CONSTRAINTS': [<function binary_constraint.<locals>.<lambda> at 0x7fdad3a3b0a0>, <function binary_constraint.<locals>.<lambda> at 0x7fdad3a3aef0>, <function binary_constraint.<locals>.<lambda> at 0x7fdad3a3ae60>, <function binary_constraint.<locals>.<lambda> at 0x7fdad3a3ad40>, <function binary_constraint.<locals>.<lambda> at 0x7fdad3a3b370>, <function binary_constraint.<locals>.<lambda> at 0x7fdad3a3b2e0>, <function binary_constraint.<locals>.<lambda> at 0x7fdad3a3a9e0>, <function binary_constraint.<locals>.<lambda> at 0x7fdad3a3a7a0>, <function binary_constraint.<locals>.<lambda> at 0x7fdad3a3b400>, <function unary_constraint.<locals>.<lambda> at 0x7fdad3a3beb0>]}\n"
     ]
    }
   ],
   "source": [
    "# Q8 ANSWER GOES HERE (modifications to CSP code and definition)\n",
    "def isComplete(assignment):\n",
    "    return None not in (assignment.values())\n",
    "\n",
    "def select_unassigned_variable(variables, assignment):\n",
    "    for var in variables:\n",
    "        if assignment[var] is None:\n",
    "            return var\n",
    "\n",
    "def is_consistent(assignment, constraints):\n",
    "    for constraint_violated in constraints:\n",
    "        if constraint_violated(assignment):\n",
    "          return False\n",
    "    return True\n",
    "\n",
    "def init_assignment(csp):\n",
    "    assignment = {}\n",
    "    for var in csp[\"VARIABLES\"]:\n",
    "        assignment[var] = None\n",
    "    return assignment\n",
    "\n",
    "def add_constraint(csp, constraint): \n",
    "    csp['CONSTRAINTS'].append(constraint)\n",
    "    \n",
    "def recursive_backtracking(assignment, csp):\n",
    "    if isComplete(assignment):\n",
    "        return assignment\n",
    "    var = select_unassigned_variable(csp[\"VARIABLES\"], assignment)\n",
    "    for value in csp[\"DOMAINS\"]:\n",
    "        assignment[var] = value\n",
    "        print(assignment.values())\n",
    "        if is_consistent(assignment, csp[\"CONSTRAINTS\"]):\n",
    "            result = recursive_backtracking(assignment, csp)\n",
    "            if result != \"FAILURE\":\n",
    "                return result\n",
    "        assignment[var] = None\n",
    "    return \"FAILURE\"\n",
    "\n",
    "def unary_constraint(variable, violations):\n",
    "    return lambda asmt: asmt[variable] in violations\n",
    "\n",
    "def binary_constraint(var_pair, violations):\n",
    "    (v1,v2) = var_pair\n",
    "    return lambda asmt: (asmt[v1], asmt[v2]) in violations\n",
    "\n",
    "csp1 = {\"VARIABLES\": [\"WA\", \"NT\", \"Q\", \"NSW\", \"V\", \"SA\", \"T\"],\n",
    "        \"DOMAINS\": [\"red\", \"green\", \"blue\"],\n",
    "        \"CONSTRAINTS\": []}\n",
    "\n",
    "violations = {('red','red'), ('green','green'), ('blue','blue')}\n",
    "\n",
    "for (v1,v2) in [('WA', 'NT'), ('WA', 'SA'), \n",
    "                ('NT', 'SA'), ('NT', 'Q'), \n",
    "                ('SA', 'Q'), ('SA', 'NSW'), \n",
    "                ('SA', 'V'),('Q', 'NSW'), \n",
    "                ('V', 'T')]: \n",
    "    add_constraint(csp1, binary_constraint((v1,v2), violations))\n",
    "\n",
    "add_constraint(csp1, unary_constraint('WA', ['red','green']))\n",
    "result = recursive_backtracking(init_assignment(csp1), csp1)\n",
    "print('Result', result)\n",
    "print(\"csp\", csp1)\n"
   ]
  },
  {
   "cell_type": "markdown",
   "metadata": {},
   "source": [
    "# QUESTION 9 CSP (Expected) 1.0 point \n",
    "\n",
    "Type inference is used in programming languages to \n",
    "infer the type of variables without explicitly stating it. \n",
    "Some examples: \n",
    "* x = 1  (we can infer x is an integer because 1 is an integer) \n",
    "* y = 1.0 (we can infer y is a float because 1.0 is a float) \n",
    "* z = x + y (we can infer z is a float because adding a float \n",
    "and an integer results in a float)\n",
    "\n",
    "Constraint satisfaction problem solvers can be used to perform \n",
    "type inference. The variables of the programming languages become the variables of the CSP problem, and the domain of each variable is the types it can have. Constraints are created from the expressions analyzed in order to enforce that the assignment of variables to types is correct. Let's consider a simple example: \n",
    "\n",
    "* int I \n",
    "* float F \n",
    "* X = I \n",
    "* Y = X + F \n",
    "* Z = X + Y\n",
    "* W = X + I \n",
    "\n",
    "We assume that when two variables are connected using assignment then they are the same type. So X is an integer because I has been declared an integer. The type of the result of adding two integers is an integer, the result of adding two floats is a float but the result of adding an integer and a float has type float. So we know that X is an integer and we add F which is a float therefore Y is a float and similarly Z is also a float.  W is an integer because X and I are integers. \n",
    "\n",
    "Notice that we did not declare the types of X, Y, and Z but were able to infer them using the semantics of the equality sign and addition. \n",
    "\n",
    "Your task for this question is to express this code as a CSP problem and solve it. The result of the CSP will be the inferred types. Each variable (I,F,X,Y,Z,W) will take values from the domain (int, float). Unary constraints can be used for the type declaration and a binary constraint can be used for the assignment expression. You will need to introduce a ternary_constraint method to express the sum expressions. "
   ]
  },
  {
   "cell_type": "code",
   "execution_count": null,
   "metadata": {
    "editable": true,
    "slideshow": {
     "slide_type": ""
    },
    "tags": []
   },
   "outputs": [],
   "source": [
    "# Q9 ANSWER GOES HERE (modifications to CSP code and definition)\n",
    "\n",
    "def ternary_constraint(var_pair, violations):\n",
    "    (v1,v2) = var_pair\n",
    "    return lambda asmt: asmt[v2] if len(asmt[v1])<len(asmt[v2]) else asmt[v1] in violations\n",
    "csp1 = {\"VARIABLES\": [\"I\", \"F\", \"X\", \"Y\", \"Z\", \"W\"],\n",
    "        \"DOMAINS\": [\"int\", \"float\"],\n",
    "        \"CONSTRAINTS\": []}\n",
    "violations = {(\"int\", \"float\"), (\"float\", \"int\")}\n",
    "#type declaration\n",
    "add_constraint(csp1, unary_constraint('I', ['float']))\n",
    "add_constraint(csp1, unary_constraint('F', ['int']))\n",
    "\n",
    "#sum expression\n",
    "# add_constraint(csp1, binary_constraint())\n",
    "# result = recursive_backtracking(init_assignment(csp1), csp1)\n",
    "# print('Result', result)\n",
    "# Result {'I': 'int', 'F': 'float', 'X': 'int', 'Y': 'float', 'Z': 'float', 'W': 'int'}\n",
    "\n"
   ]
  },
  {
   "cell_type": "markdown",
   "metadata": {},
   "source": [
    "# QUESTION 10 CSP (Advanced) 1.0 point "
   ]
  },
  {
   "cell_type": "markdown",
   "metadata": {},
   "source": [
    "There are two variants of this question. You can implement either one of them or both. The maximum you \n",
    "can get is 1 point. \n",
    "\n",
    "\n",
    "## VARIANT 1  \n",
    "\n",
    "Express solving CSP problems as search problems and use the search algorithm code that is provided \n",
    "in this notebook to solve the Australia map problem. The specification of the CSP should use the same \n",
    "convention as above but you can transform the provided information as needed to use the search algorithm. \n",
    "Show how **BFS** and **DFS** can be used to solve the Australia map coloring problem. Important note: your \n",
    "approach should be general and allow the solution of any CSP problem with variables, domains, and constraints \n",
    "specified as above. It should **NOT** only solve the Australia map.More specifically you will need to write a **CSPProblem** class that takes as input the CSP specification and then appropriately defines the states and the actions so that the generic search algorithms can be applied. \n",
    "\n"
   ]
  },
  {
   "cell_type": "markdown",
   "metadata": {},
   "source": [
    "## VARIANT 2 \n",
    "\n",
    "Extend the type inference example from question 9. Add a string type and 2 or 3 more functions or operators \n",
    "with different type constraints. Write a parser (you can make simplifying assumptions about the syntax \n",
    "such as no nested expressions, only single spaces etc) that takes as input toy source code (like the \n",
    "one provided in the Question 9 specification), generates the CSP specification, solves the CSP problem \n",
    "and return the types of all the variables. That way you don't have to \"manually\" specify the problem. \n"
   ]
  },
  {
   "cell_type": "code",
   "execution_count": null,
   "metadata": {},
   "outputs": [],
   "source": [
    "# Q10 answer goes here "
   ]
  },
  {
   "cell_type": "code",
   "execution_count": null,
   "metadata": {},
   "outputs": [],
   "source": []
  }
 ],
 "metadata": {
  "kernelspec": {
   "display_name": "Python 3 (ipykernel)",
   "language": "python",
   "name": "python3"
  },
  "language_info": {
   "codemirror_mode": {
    "name": "ipython",
    "version": 3
   },
   "file_extension": ".py",
   "mimetype": "text/x-python",
   "name": "python",
   "nbconvert_exporter": "python",
   "pygments_lexer": "ipython3",
   "version": "3.10.6"
  }
 },
 "nbformat": 4,
 "nbformat_minor": 4
}
