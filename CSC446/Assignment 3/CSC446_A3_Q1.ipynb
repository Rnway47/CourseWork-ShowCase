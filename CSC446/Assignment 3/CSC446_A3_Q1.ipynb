{
 "cells": [
  {
   "cell_type": "code",
   "execution_count": 38,
   "id": "e5bddbbf-0cfd-4360-817d-2b1d8b538c7c",
   "metadata": {},
   "outputs": [],
   "source": [
    "import random"
   ]
  },
  {
   "cell_type": "code",
   "execution_count": 41,
   "id": "5560d140-7ab9-45a0-aa3c-57a387eccc80",
   "metadata": {
    "tags": []
   },
   "outputs": [
    {
     "data": {
      "text/plain": [
       "[0.13436424411240122,\n",
       " 0.8474337369372327,\n",
       " 0.763774618976614,\n",
       " 0.2550690257394217,\n",
       " 0.49543508709194095,\n",
       " 0.4494910647887381,\n",
       " 0.651592972722763,\n",
       " 0.7887233511355132,\n",
       " 0.0938595867742349,\n",
       " 0.02834747652200631]"
      ]
     },
     "execution_count": 41,
     "metadata": {},
     "output_type": "execute_result"
    }
   ],
   "source": [
    "random.seed(1) #easy to regenerate the same list\n",
    "ten_random = [random.random() for x in range(10)] #generate 10 pseudo-random numbers\n",
    "ten_random"
   ]
  },
  {
   "cell_type": "code",
   "execution_count": 87,
   "id": "f65eceb5-e782-4e90-9cb1-deb8b3ef35e0",
   "metadata": {},
   "outputs": [
    {
     "name": "stdout",
     "output_type": "stream",
     "text": [
      "[0.02834747652200631, 0.0938595867742349, 0.13436424411240122, 0.2550690257394217, 0.4494910647887381, 0.49543508709194095, 0.651592972722763, 0.763774618976614, 0.7887233511355132, 0.8474337369372327] \n",
      "\n",
      "[0.1, 0.2, 0.3, 0.4, 0.5, 0.6, 0.7, 0.8, 0.9, 1.0] \n",
      "\n",
      "[0.0716525234779937, 0.10614041322576512, 0.16563575588759877, 0.14493097426057833, 0.050508935211261874, 0.10456491290805903, 0.048407027277237, 0.036225381023386016, 0.11127664886448685, 0.15256626306276733] \n",
      "\n",
      "[0.02834747652200631, 0.0, 0.0, 0.0, 0.049491064788738104, 0.0, 0.051592972722762975, 0.06377461897661407, 0.0, 0.0] \n",
      "\n",
      "0.16563575588759877 \n",
      "\n",
      "H0, the null hypothesis, is not rejected. There are no significant difference between the sample distribution and theoretical distribution\n",
      "\n"
     ]
    }
   ],
   "source": [
    "# Kolmogorv-Smirnov test\n",
    "ten_random = sorted(ten_random) #sort the num from small to big\n",
    "print(ten_random, \"\\n\")\n",
    "\n",
    "freq_list = [x/10 for x in range(1, 11)] # i/N\n",
    "print(freq_list, \"\\n\")\n",
    "\n",
    "d_plus_list = [(freq_list[x]-ten_random[x] if (freq_list[x]-ten_random[x]) > 0 else 0.0) for x in range(10)] #i/N - Ri\n",
    "print(d_plus_list, \"\\n\")\n",
    "\n",
    "d_minus_list = [(ten_random[x] - x/10 if (ten_random[x] - x/10) > 0 else 0.0) for x in range(10)]#Ri - (i-1)/N, value 0 won't influence the sorted list\n",
    "print(d_minus_list, \"\\n\") \n",
    "\n",
    "d_max = sorted(d_plus_list + d_minus_list)[-1] #max(D+, D-)\n",
    "print(d_max, \"\\n\")\n",
    "\n",
    "#alpha = 0.05, N=10\n",
    "d_critical = 0.410\n",
    "if d_critical >= d_max:\n",
    "    print(\"H0, the null hypothesis, is not rejected. There are no significant difference between the sample distribution and theoretical distribution\\n\")\n",
    "else:\n",
    "    print(\"H0, the null hypothesis, is rejected. There are significant difference between the sample distribution and theoretical distribution\\n\")"
   ]
  },
  {
   "cell_type": "code",
   "execution_count": 111,
   "id": "26b2610a-afcc-437f-b82a-8ab47a28ef9d",
   "metadata": {},
   "outputs": [
    {
     "name": "stdout",
     "output_type": "stream",
     "text": [
      "[112, 88, 97, 89, 96, 102, 109, 103, 100, 81, 121, 107, 104, 92, 101, 84, 107, 109, 88, 110] \n",
      "\n",
      "20.9 \n",
      "\n",
      "H0, the null hypothesis, is not rejected. There are no significant difference between the sample distribution and theoretical distribution\n",
      "\n"
     ]
    }
   ],
   "source": [
    "#chi-square test\n",
    "random.seed(1) #easy to regenerate the same list\n",
    "large_random = [random.random() for x in range(2000)] #generate 200 random numbers\n",
    "\n",
    "#.random() generates numbers in between 0.0 and 1.0, we will make n=20 therefore 20 intervaLs in [0.0, 1.0], Ei=2000/20=100\n",
    "observed_list = [] #complete observed numbers in each ith class, Oi\n",
    "for order in range(20):\n",
    "    observed_list.append([(0+order*0.05) <= x <= (0.05+order*0.05) for x in large_random].count(True)) #count how many numbers are in each interval\n",
    "print(observed_list, \"\\n\")\n",
    "#prepare for x0\n",
    "x_0 = 0 \n",
    "for item in observed_list:\n",
    "    x_0 += (item-100) ** 2 / 100\n",
    "print(x_0, \"\\n\")\n",
    "#n-1 = 19, alpha = 0.05, x(0.05, 19)^2 = 30.1, ready for comparison\n",
    "x_critical = 30.1\n",
    "if x_0 < x_critical:\n",
    "    print(\"H0, the null hypothesis, is not rejected. There are no significant difference between the sample distribution and theoretical distribution\\n\")\n",
    "else:\n",
    "    print(\"H0, the null hypothesis, is rejected. There are significant difference between the sample distribution and theoretical distribution\\n\")"
   ]
  }
 ],
 "metadata": {
  "kernelspec": {
   "display_name": "Python 3 (ipykernel)",
   "language": "python",
   "name": "python3"
  },
  "language_info": {
   "codemirror_mode": {
    "name": "ipython",
    "version": 3
   },
   "file_extension": ".py",
   "mimetype": "text/x-python",
   "name": "python",
   "nbconvert_exporter": "python",
   "pygments_lexer": "ipython3",
   "version": "3.10.6"
  }
 },
 "nbformat": 4,
 "nbformat_minor": 5
}
