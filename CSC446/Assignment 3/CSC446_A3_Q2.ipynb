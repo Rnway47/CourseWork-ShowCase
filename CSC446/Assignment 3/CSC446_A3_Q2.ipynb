{
 "cells": [
  {
   "cell_type": "code",
   "execution_count": 14,
   "id": "ecf2c2e1-7fb8-4f48-8bf0-245b5ec21dff",
   "metadata": {},
   "outputs": [],
   "source": [
    "import random"
   ]
  },
  {
   "cell_type": "code",
   "execution_count": 15,
   "id": "c981faeb-1faf-46e0-9a6a-2e9733efa208",
   "metadata": {},
   "outputs": [],
   "source": [
    "def random_num(N):\n",
    "    i= 2\n",
    "    random_list = []\n",
    "    random_list.append(random.random())\n",
    "    random_list.append(random.random())\n",
    "    while (i < N):\n",
    "        random_list.append(random_list[i-1] + random_list[i-2])\n",
    "        if random_list[i] >= 1:\n",
    "            random_list[i] -= 1.0\n",
    "        i += 1\n",
    "    return random_list"
   ]
  },
  {
   "cell_type": "code",
   "execution_count": 20,
   "id": "5f88ddf2-03e2-4310-9010-3b015a6aa078",
   "metadata": {},
   "outputs": [
    {
     "name": "stdout",
     "output_type": "stream",
     "text": [
      "[94, 102, 97, 94, 90, 103, 106, 102, 102, 110] \n",
      "\n",
      "3.3800000000000003 \n",
      "\n",
      "H0, the null hypothesis, is not rejected. There are no significant difference between the sample distribution and theoretical distribution\n",
      "\n"
     ]
    }
   ],
   "source": [
    "random.seed(1)\n",
    "random_samp = random_num(1000) #generate 1000 random numbers\n",
    "#chi square test\n",
    "observed_list = []\n",
    "for order in range(10):\n",
    "    observed_list.append([(0+order*0.1) <= x <= (0.1+order*0.1) for x in random_samp].count(True)) #count how many numbers are in each interval\n",
    "print(observed_list, \"\\n\")\n",
    "x_0 = 0 \n",
    "for item in observed_list:\n",
    "    x_0 += (item-100) ** 2 / 100\n",
    "print(x_0, \"\\n\")\n",
    "x_critical = 16.9 #n-1 = 9, alpha=0.05\n",
    "if x_0 < x_critical:\n",
    "    print(\"H0, the null hypothesis, is not rejected. There are no significant difference between the sample distribution and theoretical distribution\\n\")\n",
    "else:\n",
    "    print(\"H0, the null hypothesis, is rejected. There are significant difference between the sample distribution and theoretical distribution\\n\")"
   ]
  },
  {
   "cell_type": "code",
   "execution_count": null,
   "id": "682453ab-1122-477a-9cca-1758941f2b40",
   "metadata": {},
   "outputs": [],
   "source": []
  }
 ],
 "metadata": {
  "kernelspec": {
   "display_name": "Python 3 (ipykernel)",
   "language": "python",
   "name": "python3"
  },
  "language_info": {
   "codemirror_mode": {
    "name": "ipython",
    "version": 3
   },
   "file_extension": ".py",
   "mimetype": "text/x-python",
   "name": "python",
   "nbconvert_exporter": "python",
   "pygments_lexer": "ipython3",
   "version": "3.10.6"
  }
 },
 "nbformat": 4,
 "nbformat_minor": 5
}
