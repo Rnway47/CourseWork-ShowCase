{
 "cells": [
  {
   "cell_type": "code",
   "execution_count": 1,
   "id": "af035835-451a-415e-81c7-30340ce64a6a",
   "metadata": {},
   "outputs": [],
   "source": [
    "#  a = 11,m = 16,X0 = 7\n",
    "#  a = 11,m = 16,X0 = 8\n",
    "#  a = 7,m = 16,X0 = 7\n",
    "#  a = 7,m = 16,X0 = 8\n",
    "def multi_congr(a, m, x_0):\n",
    "    xi_list = [x_0] # xi+1 = a * xi mod m\n",
    "    ri_list = [x_0/m]\n",
    "    x=0\n",
    "    while x < m/4: #max period\n",
    "        xi_list.append(a*xi_list[x] % m)\n",
    "        ri_list.append(a*xi_list[x] % m / m)\n",
    "        x += 1\n",
    "    return xi_list, ri_list"
   ]
  },
  {
   "cell_type": "code",
   "execution_count": 2,
   "id": "8911bd11-40ce-46aa-a9ca-86762229ac4a",
   "metadata": {},
   "outputs": [
    {
     "name": "stdout",
     "output_type": "stream",
     "text": [
      "Maximum period P is 4 and a = 3 + 8k where k=1\n",
      "[7, 13, 15, 5, 7]\n",
      "[0.4375, 0.8125, 0.9375, 0.3125, 0.4375]\n",
      "We can see that it starts to cycle after every 4th random number is generated which matches the theoretical maximum period. However, the gap is relatively large and it would be better if it has a larger maximum period\n"
     ]
    }
   ],
   "source": [
    "xi_list, ri_list = multi_congr(11, 16, 7)\n",
    "print(\"Maximum period P is\", int(16/4), \"and a = 3 + 8k where k=1\")\n",
    "print(xi_list)\n",
    "print(ri_list)\n",
    "print(\"We can see that it starts to cycle after every 4th random number is generated which matches the theoretical maximum period. However, the gap is relatively large and it would be better if it has a larger maximum period\")\n"
   ]
  },
  {
   "cell_type": "code",
   "execution_count": 3,
   "id": "9c2885a0-0a6d-4fb2-ab92-d0315b6a4d1b",
   "metadata": {},
   "outputs": [
    {
     "name": "stdout",
     "output_type": "stream",
     "text": [
      "Maximum period P is 4 and a = 3 + 8k where k=1\n",
      "However the seed or x_0 is an even number\n",
      "[8, 8, 8, 8, 8]\n",
      "[0.5, 0.5, 0.5, 0.5, 0.5]\n",
      "Since the seed is an even number, the multiplier and modular have lost their purpose to generate pseudo-random numbers. \n",
      "All random numbers are identical to each other, so maximum period is not achieved. It's not a viable random number generator\n"
     ]
    }
   ],
   "source": [
    "xi_list, ri_list = multi_congr(11, 16, 8)\n",
    "print(\"Maximum period P is\", int(16/4), \"and a = 3 + 8k where k=1\")\n",
    "print(\"However the seed or x_0 is an even number\")\n",
    "print(xi_list)\n",
    "print(ri_list)\n",
    "print(\"Since the seed is an even number, the multiplier and modular have lost their purpose to generate pseudo-random numbers. \\nAll random numbers are identical to each other, so maximum period is not achieved. It's not a viable random number generator\")"
   ]
  },
  {
   "cell_type": "code",
   "execution_count": 4,
   "id": "650dda3d-1e65-4a5b-ac72-15e9a8f06e60",
   "metadata": {},
   "outputs": [
    {
     "name": "stdout",
     "output_type": "stream",
     "text": [
      "Maximum period P is 4 and a = 7 which cannot be obtained from a=3+8k or a=5+8k where k is a set which contains 0 and all positive integers\n",
      "[7, 1, 7, 1, 7]\n",
      "[0.4375, 0.0625, 0.4375, 0.0625, 0.4375]\n",
      "Although the maximum period is 4, the random numbers start to cycle after every 2 random numbers are generated, which is different from the maximum period.Only 2 unique numbers are generated. \n",
      "Cycling happens very often therefore this is not a viable random number generator.\n"
     ]
    }
   ],
   "source": [
    "xi_list, ri_list = multi_congr(7, 16, 7)\n",
    "print(\"Maximum period P is\", int(16/4), \"and a = 7 which cannot be obtained from a=3+8k or a=5+8k where k is a set which contains 0 and all positive integers\")\n",
    "print(xi_list)\n",
    "print(ri_list)\n",
    "print(\"Although the maximum period is 4, the random numbers start to cycle after every 2 random numbers are generated, which is different from the maximum period.Only 2 unique numbers are generated. \\nCycling happens very often therefore this is not a viable random number generator.\")"
   ]
  },
  {
   "cell_type": "code",
   "execution_count": 5,
   "id": "a707bff7-2dab-4045-a802-d1c8a7cee43a",
   "metadata": {},
   "outputs": [
    {
     "name": "stdout",
     "output_type": "stream",
     "text": [
      "Maximum period P is 4 and a = 7 which cannot be obtained from a=3+8k or a=5+8k where k is a set which contains 0 and all positive integers\n",
      "In addition, the seed x0 is an even number\n",
      "[8, 8, 8, 8, 8]\n",
      "[0.5, 0.5, 0.5, 0.5, 0.5]\n",
      "From the result, it is noticeable that all random numbers are the same, which violates the purpose of using a random number generator. Maximum period is not achieved.\n"
     ]
    }
   ],
   "source": [
    "xi_list, ri_list = multi_congr(7, 16, 8)\n",
    "print(\"Maximum period P is\", int(16/4), \"and a = 7 which cannot be obtained from a=3+8k or a=5+8k where k is a set which contains 0 and all positive integers\")\n",
    "print(\"In addition, the seed x0 is an even number\")\n",
    "print(xi_list)\n",
    "print(ri_list)\n",
    "print(\"From the result, it is noticeable that all random numbers are the same, which violates the purpose of using a random number generator. Maximum period is not achieved.\")"
   ]
  },
  {
   "cell_type": "code",
   "execution_count": null,
   "id": "51e13064-1134-496e-b007-3c741aadf25e",
   "metadata": {},
   "outputs": [],
   "source": []
  }
 ],
 "metadata": {
  "kernelspec": {
   "display_name": "Python 3 (ipykernel)",
   "language": "python",
   "name": "python3"
  },
  "language_info": {
   "codemirror_mode": {
    "name": "ipython",
    "version": 3
   },
   "file_extension": ".py",
   "mimetype": "text/x-python",
   "name": "python",
   "nbconvert_exporter": "python",
   "pygments_lexer": "ipython3",
   "version": "3.10.6"
  }
 },
 "nbformat": 4,
 "nbformat_minor": 5
}
