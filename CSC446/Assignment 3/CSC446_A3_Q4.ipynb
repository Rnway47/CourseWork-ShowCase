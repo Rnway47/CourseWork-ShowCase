{
 "cells": [
  {
   "cell_type": "code",
   "execution_count": 8,
   "id": "1bd7410b-af71-48ad-b6d8-3c71b70b97da",
   "metadata": {},
   "outputs": [
    {
     "name": "stdout",
     "output_type": "stream",
     "text": [
      "-0.047180333333333296\n",
      "0.1178511301977579\n",
      "-0.4003384036637002\n",
      "From the test statistics, we can see that the subsequence has negative correlation. Z0.025 = 1.96. Hence, the hypothesis is not rejected.\n"
     ]
    }
   ],
   "source": [
    "#alpha=0.05, i=1, N=20, m=3, 1 + (M+1)*3 <= 20\n",
    "a = 0.05 # level of significance\n",
    "i = 1 #start with the 1st number\n",
    "N= 20 #sample size\n",
    "m = 3 #every 3rd number\n",
    "M = 5\n",
    "sample = [0.594, 0.928, 0.515, 0.055, 0.507, 0.351, 0.262, 0.797, 0.788, 0.442, 0.097, 0.798, 0.227, 0.127, 0.474, 0.825, 0.007, 0.182, 0.929, 0.852]\n",
    "\n",
    "#calculate p_im\n",
    "p_im = 0\n",
    "for k in range(M+1):\n",
    "    p_im += sample[i+k*m-1] * sample[i+(k+1)*m-1]\n",
    "p_im = p_im / (M+1) - 0.25\n",
    "print(p_im)\n",
    "\n",
    "mu_im = (13 * M + 7) ** (0.5) / (12 * (M+1))\n",
    "print(mu_im)\n",
    "\n",
    "z_0 = p_im / mu_im\n",
    "print(z_0)\n",
    "\n",
    "print(\"From the test statistics, we can see that the subsequence has negative correlation. Z0.025 = 1.96. Hence, the hypothesis is not rejected.\")"
   ]
  },
  {
   "cell_type": "code",
   "execution_count": null,
   "id": "f38faeb0-9caf-4cfa-a540-76fc69f770f9",
   "metadata": {},
   "outputs": [],
   "source": []
  }
 ],
 "metadata": {
  "kernelspec": {
   "display_name": "Python 3 (ipykernel)",
   "language": "python",
   "name": "python3"
  },
  "language_info": {
   "codemirror_mode": {
    "name": "ipython",
    "version": 3
   },
   "file_extension": ".py",
   "mimetype": "text/x-python",
   "name": "python",
   "nbconvert_exporter": "python",
   "pygments_lexer": "ipython3",
   "version": "3.10.6"
  }
 },
 "nbformat": 4,
 "nbformat_minor": 5
}
