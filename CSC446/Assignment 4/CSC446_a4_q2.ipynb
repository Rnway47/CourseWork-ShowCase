{
 "cells": [
  {
   "cell_type": "code",
   "execution_count": 17,
   "id": "f54aa983-8384-4e45-ac8e-52dc1537c708",
   "metadata": {},
   "outputs": [
    {
     "name": "stdout",
     "output_type": "stream",
     "text": [
      "Mean of the sample: 1.11\n",
      "Expected class: [32.9558961075189, 36.581044679345986, 20.302479797037023, 7.511917524903699, 2.0845571131607765, 0.4627716791216925, 0.08561276063751312]\n",
      "Value of x0: 15.527046432155455\n",
      "Critical value when class interval is 4 and the level of significance is 0.01: 13.28\n",
      "The null hypothesis is reject because X0 > X0.05, 4\n"
     ]
    }
   ],
   "source": [
    "import numpy\n",
    "import random\n",
    "import math\n",
    "from matplotlib import pyplot as plt\n",
    "\n",
    "def factorial(num):\n",
    "    if num == 0:\n",
    "        return 1\n",
    "    else:\n",
    "        return num * factorial(num-1)\n",
    "#part a \n",
    "sample = [35, 40, 13, 6, 4, 1, 1] #class interval\n",
    "sample_size = 100\n",
    "#since a(alpha) is unknown, we will use the mean of the sample to estimate (raw data are also unavailable)\n",
    "sample_mean = sum([x * sample[x] for x in range(len(sample))]) / sample_size\n",
    "print(\"Mean of the sample:\", sample_mean)\n",
    "Ei = [sample_size * math.exp(-sample_mean) * (sample_mean ** x) / factorial(x) for x in range(len(sample))]#expected class\n",
    "print(\"Expected class:\", Ei)\n",
    "#observed class is given, calculate for x0\n",
    "x0 = sum([((sample[x]-Ei[x]) ** 2) / Ei[x] for x in range(len(sample))])\n",
    "print(\"Value of x0:\", x0)\n",
    "k = len(sample)-1\n",
    "s = 1\n",
    "df = k-s-1\n",
    "critical_value = 13.28\n",
    "print(f\"Critical value when class interval is {df} and the level of significance is 0.01: {critical_value}\")\n",
    "print(\"The null hypothesis is rejected because X0 > X0.05, 4\")"
   ]
  },
  {
   "cell_type": "code",
   "execution_count": 20,
   "id": "489914ec-aff4-4c30-8ffa-6412f9979b1e",
   "metadata": {},
   "outputs": [
    {
     "name": "stdout",
     "output_type": "stream",
     "text": [
      "Mean of the sample(given): 1.0\n",
      "Expected class: [36.787944117144235, 36.787944117144235, 18.393972058572118, 6.1313240195240395, 1.5328310048810099, 0.30656620097620196, 0.051094366829366994]\n",
      "Value of x0: 25.11418844904105\n",
      "Critical value when class interval is 4 and the level of significance is 0.01: 13.28\n",
      "The null hypothesis is rejected because X0 > X0.05, 4\n"
     ]
    }
   ],
   "source": [
    "#part b\n",
    "sample_mean = 1.0 #sample mean is given\n",
    "print(\"Mean of the sample(given):\", sample_mean)\n",
    "Ei = [sample_size* math.exp(-sample_mean) * (sample_mean ** x) / factorial(x) for x in range(len(sample))]#expected class\n",
    "print(\"Expected class:\", Ei)\n",
    "#observed class is given, calculate for x0\n",
    "x0 = sum([((sample[x]-Ei[x]) ** 2) / Ei[x] for x in range(len(sample))])\n",
    "print(\"Value of x0:\", x0)\n",
    "k = len(sample)-1\n",
    "s = 1\n",
    "df = k-s-1\n",
    "critical_value = 13.28\n",
    "print(f\"Critical value when class interval is {df} and the level of significance is 0.01: {critical_value}\")\n",
    "print(\"The null hypothesis is rejected because X0 > X0.05, 4\")"
   ]
  },
  {
   "cell_type": "code",
   "execution_count": null,
   "id": "2c953593-94d1-46c4-8a7f-2908e1d2015c",
   "metadata": {},
   "outputs": [],
   "source": [
    "#part c"
   ]
  }
 ],
 "metadata": {
  "kernelspec": {
   "display_name": "Python 3 (ipykernel)",
   "language": "python",
   "name": "python3"
  },
  "language_info": {
   "codemirror_mode": {
    "name": "ipython",
    "version": 3
   },
   "file_extension": ".py",
   "mimetype": "text/x-python",
   "name": "python",
   "nbconvert_exporter": "python",
   "pygments_lexer": "ipython3",
   "version": "3.10.6"
  }
 },
 "nbformat": 4,
 "nbformat_minor": 5
}
