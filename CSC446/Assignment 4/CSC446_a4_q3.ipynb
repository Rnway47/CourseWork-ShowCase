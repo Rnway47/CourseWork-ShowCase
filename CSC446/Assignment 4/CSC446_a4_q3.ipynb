{
 "cells": [
  {
   "cell_type": "code",
   "execution_count": 55,
   "id": "d3177b07-045e-4680-afaf-7047001a840b",
   "metadata": {},
   "outputs": [
    {
     "name": "stdout",
     "output_type": "stream",
     "text": [
      "Sample mean: 20.27777777777778\n",
      "Sample variance: 16.683006535947726\n",
      "Sum of Xt*Xt+1 where t=[1, 18]: 7112\n",
      "lag-1 autocovariance: 7.164669571532293\n",
      "autocorrelation: 0.42945913592338486\n",
      "mu: 0.049315068493150684\n",
      "\n",
      "Histogram for EAR(1) model\n"
     ]
    },
    {
     "data": {
      "image/png": "[encoded data removed]",
      "text/plain": [
       "<Figure size 640x480 with 1 Axes>"
      ]
     },
     "metadata": {},
     "output_type": "display_data"
    }
   ],
   "source": [
    "import numpy\n",
    "import random\n",
    "import math\n",
    "from matplotlib import pyplot as plt\n",
    "# sample_mean = sum(sample) / len(sample)\n",
    "# sample_variance = (sum([sample[x] ** 2 for x in range(len(sample))]) - len(sample) * (sample_mean ** 2)) / (len(sample) - 1)\n",
    "#Start with the sample mean and variance\n",
    "sample = [20,14,21,19,14,18,21,25,27,26,22,18,13,18,25,23,20,21]\n",
    "sample_mean = sum(sample) / len(sample)\n",
    "sample_variance = (sum([sample[x] ** 2 for x in range(len(sample))]) - len(sample) * (sample_mean ** 2)) / (len(sample) - 1)\n",
    "print(f\"Sample mean: {sample_mean}\\nSample variance: {sample_variance}\")\n",
    "#lag-1 autocorrelation\n",
    "sum_product = sum([sample[x]*sample[x+1] for x in range(len(sample)-1)])\n",
    "print(f\"Sum of Xt*Xt+1 where t=[1, 18]: {sum_product}\")\n",
    "cov = (sum_product - (len(sample)-1)*((sample_mean) ** 2)) / (len(sample)-1)\n",
    "print(f\"lag-1 autocovariance: {cov}\")\n",
    "p = cov / sample_variance\n",
    "print(f\"autocorrelation: {p}\")\n",
    "print(f\"mu: {1/sample_mean}\\n\")\n",
    "\n",
    "#prepare for hisogram\n",
    "ear_sample = []\n",
    "numpy.random.seed(1)\n",
    "random.seed(1)\n",
    "t=2\n",
    "x1 = numpy.random.exponential(scale=1.0/sample_mean)\n",
    "ear_sample.append(x1) #generate x1 \n",
    "xt = x1\n",
    "while t < 19:\n",
    "    u = numpy.random.uniform() #generate U from uniform distribution in the range of [0,1]\n",
    "    if u <= p: #xt = p * xt-1 when u <= p\n",
    "        x_plus = p * xt\n",
    "        ear_sample.append(x_plus)\n",
    "        xt = x_plus\n",
    "        t += 1\n",
    "    else: #xt = mean + p(xt-1 - mean) + beta(generated from exponential function)\n",
    "        x_plus = sample_mean + p * (xt - sample_mean) + numpy.random.exponential(scale=1.0/sample_mean)\n",
    "        ear_sample.append(x_plus)\n",
    "        xt = x_plus\n",
    "        t += 1\n",
    "print(\"Histogram for EAR(1) model\")\n",
    "plt.hist(x=ear_sample, density=True)\n",
    "plt.show()"
   ]
  },
  {
   "cell_type": "code",
   "execution_count": 56,
   "id": "309e7830-5bb4-4ff3-b313-2c8f31125f96",
   "metadata": {},
   "outputs": [
    {
     "name": "stdout",
     "output_type": "stream",
     "text": [
      "Sample mean: 20.27777777777778\n",
      "Sample variance: 16.683006535947726\n",
      "Sum of Xt*Xt+1 where t=[1, 18]: 7112\n",
      "lag-1 autocovariance: 7.164669571532293\n",
      "variance for AR(1) model: 13.6060737325809\n",
      "autocorrelation: 0.42945913592338486\n",
      "mu: 20.27777777777778\n",
      "\n",
      "Histogram for AR(1) model\n"
     ]
    },
    {
     "data": {
      "image/png": "[encoded data removed]",
      "text/plain": [
       "<Figure size 640x480 with 1 Axes>"
      ]
     },
     "metadata": {},
     "output_type": "display_data"
    },
    {
     "name": "stdout",
     "output_type": "stream",
     "text": [
      "Comparing 2 histograms, AR model fits better considering there are no visible gaps between intervals and it's more close to the normal distribution.\n"
     ]
    }
   ],
   "source": [
    "#AR model\n",
    "#we will use the sample mean, variance, sum_product, covariance, and p from the EAR model calculation since both use these stats\n",
    "ar_p = p #share the same covariance and sample variance\n",
    "ar_variance = sample_variance * (1 - (ar_p ** 2))\n",
    "ar_mu = sample_mean\n",
    "print(f\"Sample mean: {sample_mean}\\nSample variance: {sample_variance}\")\n",
    "print(f\"Sum of Xt*Xt+1 where t=[1, 18]: {sum_product}\")\n",
    "print(f\"lag-1 autocovariance: {cov}\")\n",
    "print(f\"variance for AR(1) model: {ar_variance}\")\n",
    "print(f\"autocorrelation: {ar_p}\")\n",
    "print(f\"mu: {ar_mu}\\n\")\n",
    "ar_sample = []\n",
    "\n",
    "normal_sd = (ar_variance / (1 - (ar_p ** 2))) ** 0.5 #standard deviation for generating X1 from normal distribution\n",
    "numpy.random.seed(1)\n",
    "xt = numpy.random.normal(loc=ar_mu, scale=normal_sd)\n",
    "ar_sample.append(xt)\n",
    "t=2\n",
    "while t < 19: #repeat until t=19\n",
    "    x_plus = ar_mu + ar_p * (xt - ar_mu) + numpy.random.normal(loc=0, scale=(ar_variance**0.5))\n",
    "    ar_sample.append(x_plus)\n",
    "    xt = x_plus\n",
    "    t += 1\n",
    "print(\"Histogram for AR(1) model\")\n",
    "plt.hist(x=ar_sample, density=True)\n",
    "plt.show()\n",
    "print(\"Comparing 2 histograms, AR model fits better considering there are no visible gaps between intervals and it's more close to the normal distribution.\")"
   ]
  }
 ],
 "metadata": {
  "kernelspec": {
   "display_name": "Python 3 (ipykernel)",
   "language": "python",
   "name": "python3"
  },
  "language_info": {
   "codemirror_mode": {
    "name": "ipython",
    "version": 3
   },
   "file_extension": ".py",
   "mimetype": "text/x-python",
   "name": "python",
   "nbconvert_exporter": "python",
   "pygments_lexer": "ipython3",
   "version": "3.10.6"
  }
 },
 "nbformat": 4,
 "nbformat_minor": 5
}
