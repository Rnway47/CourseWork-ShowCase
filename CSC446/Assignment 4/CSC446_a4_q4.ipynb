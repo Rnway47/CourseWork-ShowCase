{
 "cells": [
  {
   "cell_type": "code",
   "execution_count": 8,
   "id": "bd1b53df-adc4-4959-be73-8d1364b4b46d",
   "metadata": {},
   "outputs": [
    {
     "data": {
      "image/png": "[encoded data removed]",
      "text/plain": [
       "<Figure size 640x480 with 1 Axes>"
      ]
     },
     "metadata": {},
     "output_type": "display_data"
    },
    {
     "name": "stdout",
     "output_type": "stream",
     "text": [
      "From the scatter plot, we can observe that planning time has roughly a positive correlation. They are dependent of each other.\n"
     ]
    }
   ],
   "source": [
    "import numpy as np\n",
    "import random\n",
    "import math\n",
    "from matplotlib import pyplot as plt\n",
    "\n",
    "#part a\n",
    "#First, input data for each field, mining time and planning time\n",
    "mill_time = [12.3, 20.4, 18.9, 16.5, 8.3, 6.5, 25.2, 17.7, 10.6, 13.7, 26.2, 30.4, 9.9, 24.6, 28.5, 11.3, 13.3, 21.0, 19.5, 15.0, 12.6, 14.3, 17.0, 21.2, 28.4]\n",
    "plan_time = [10.6, 13.9, 14.1, 10.1, 8.4, 8.1, 16.9, 13.7, 10.2, 12.1, 16.0, 18.9, 7.7, 16.6, 21.2, 9.9, 10.7, 14.0, 13.0, 11.5, 9.9, 13.2, 12.5, 14.2, 19.1]\n",
    "plt.title(\"planning time vs milling time\")\n",
    "plt.scatter(x=mill_time, y=plan_time)\n",
    "plt.show()\n",
    "print(\"From the scatter plot, we can observe that planning time has roughly a positive correlation. They are dependent of each other.\")"
   ]
  },
  {
   "cell_type": "code",
   "execution_count": 10,
   "id": "c09cec7a-3cf2-4dd2-a38e-2f481eb47733",
   "metadata": {},
   "outputs": [
    {
     "name": "stdout",
     "output_type": "stream",
     "text": [
      "Mean of milling time: 17.732\n",
      "Variance of milling time: 45.03893333333341\n",
      "Mean of planning time: 13.059999999999997\n",
      "Variance of planning time: 12.684166666666746\n",
      "Sum of Xplan,j * Xmill, j where j=[1,25]: 6337.92\n",
      "Covariance between 2 samples: 22.850916666666762\n",
      "Correlation between 2 samples: 0.9560456027353942\n"
     ]
    }
   ],
   "source": [
    "#part b\n",
    "mill_mean = sum(mill_time) / len(mill_time)\n",
    "print(f\"Mean of milling time: {mill_mean}\")\n",
    "mill_var = (sum([mill_time[x] ** 2 for x in range(len(mill_time))]) - len(mill_time) * (mill_mean ** 2)) / (len(mill_time) - 1)\n",
    "print(f\"Variance of milling time: {mill_var}\")\n",
    "plan_mean = sum(plan_time) / len(plan_time)\n",
    "print(f\"Mean of planning time: {plan_mean}\")\n",
    "plan_var = (sum([plan_time[x] ** 2 for x in range(len(plan_time))]) - len(plan_time) * (plan_mean ** 2)) / (len(plan_time) - 1)\n",
    "print(f\"Variance of planning time: {plan_var}\")\n",
    "sum_product = sum([mill_time[x] * plan_time[x] for x in range(len(mill_time))])\n",
    "print(f\"Sum of Xplan,j * Xmill, j where j=[1,25]: {sum_product}\")\n",
    "cov = (sum_product - len(mill_time) * mill_mean * plan_mean) / (len(mill_time) - 1)\n",
    "print(f\"Covariance between 2 samples: {cov}\")\n",
    "p = cov / ((mill_var ** 0.5) * (plan_var ** 0.5)) # we use standard deviation not variance\n",
    "print(f\"Correlation between 2 samples: {p}\")"
   ]
  },
  {
   "cell_type": "code",
   "execution_count": 12,
   "id": "8d518ce3-512e-4f86-be09-75bef512e389",
   "metadata": {},
   "outputs": [
    {
     "name": "stdout",
     "output_type": "stream",
     "text": [
      "X1 = u1 + o1 * Z1\n",
      "X2 = u2 + o2 * (p * Z1 + Z2 * ((1-p**2) * 0.5))\n",
      "Mean of milling time, u1: 17.732\n",
      "Standard deviation of milling time, o1: 22.519466666666705\n",
      "Mean of planning time, u2: 13.059999999999997\n",
      "Standard deviation of planning time, u2: 6.342083333333373\n",
      "Independent random number, R1: 0.13436424411240122\n",
      "Independent random number, R2: 0.8474337369372327\n",
      "Standard normal random variable, z1: 1.1534672601458011\n",
      "Standard normal random variable, z2: -1.6426712518326385\n",
      "Value of X1:  43.70746751594474\n",
      "Value of X2:  19.60599075338846\n"
     ]
    }
   ],
   "source": [
    "#part c\n",
    "print(\"X1 = u1 + o1 * Z1\")\n",
    "print(\"X2 = u2 + o2 * (p * Z1 + Z2 * ((1-p**2) * 0.5))\")\n",
    "u1 = mill_mean \n",
    "print(f\"Mean of milling time, u1: {u1}\")\n",
    "o1 = mill_var * 0.5\n",
    "print(f\"Standard deviation of milling time, o1: {o1}\")\n",
    "u2 = plan_mean\n",
    "print(f\"Mean of planning time, u2: {u2}\")\n",
    "o2 = plan_var * 0.5\n",
    "print(f\"Standard deviation of planning time, u2: {o2}\")\n",
    "#calculate 2 independent standard normal random variables\n",
    "random.seed(1)\n",
    "r1 = random.random()\n",
    "print(f\"Independent random number, R1: {r1}\")\n",
    "r2 = random.random()\n",
    "print(f\"Independent random number, R2: {r2}\")\n",
    "z1 = (-2 * math.log(r1)) * 0.5 * math.cos(2 * math.pi * r2)\n",
    "print(f\"Standard normal random variable, z1: {z1}\")\n",
    "z2 = (-2 * math.log(r1)) * 0.5 * math.sin(2 * math.pi * r2)\n",
    "print(f\"Standard normal random variable, z2: {z2}\")\n",
    "\n",
    "print(\"Value of X1: \", u1 + o1 * z1)\n",
    "print(\"Value of X2: \", u2 + o2 * (p * z1 + z2 * ((1-p**2) * 0.5)))"
   ]
  }
 ],
 "metadata": {
  "kernelspec": {
   "display_name": "Python 3 (ipykernel)",
   "language": "python",
   "name": "python3"
  },
  "language_info": {
   "codemirror_mode": {
    "name": "ipython",
    "version": 3
   },
   "file_extension": ".py",
   "mimetype": "text/x-python",
   "name": "python",
   "nbconvert_exporter": "python",
   "pygments_lexer": "ipython3",
   "version": "3.10.6"
  }
 },
 "nbformat": 4,
 "nbformat_minor": 5
}
