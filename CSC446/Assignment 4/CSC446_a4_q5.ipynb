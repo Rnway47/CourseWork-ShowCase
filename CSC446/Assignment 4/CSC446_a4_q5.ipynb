{
 "cells": [
  {
   "cell_type": "code",
   "execution_count": 19,
   "id": "47d9cdad-6dfb-4de1-b2cc-2b0f5a11493b",
   "metadata": {},
   "outputs": [
    {
     "name": "stdout",
     "output_type": "stream",
     "text": [
      "Point estimator: 5.1190698\n",
      "Standard deviation: 0.6274773473639065\n",
      "Confidence interval: 5.1190698 +/- 0.4484422\n",
      "Prediction interval: 5.1190698 +/- 1.4873146\n"
     ]
    }
   ],
   "source": [
    "import numpy as np\n",
    "import random\n",
    "import math\n",
    "from matplotlib import pyplot as plt\n",
    "\n",
    "#part a, collected data from running the single server java file \n",
    "wait_time = [5.732525, 5.986493, 4.443964, 4.091805, 4.852080, 5.903913, 4.863045, 4.963182, 5.421765, 4.931926]\n",
    "point_est = sum(wait_time) / len(wait_time) #point estimators\n",
    "print(f\"Point estimator: {point_est}\")\n",
    "stand_dev = (sum([(wait_time[x] - point_est)**2 for x in range(len(wait_time))]) / (len(wait_time) - 1)) ** 0.5 #standard deviation\n",
    "print(f\"Standard deviation: {stand_dev}\")\n",
    "student_t = 2.26 #alpha=0.025, R=10-1\n",
    "confidence_range = student_t * stand_dev / (len(wait_time) ** 0.5)\n",
    "print(f\"Confidence interval: {point_est} +/- {round(confidence_range, 7)}\")\n",
    "prediction_range = student_t * stand_dev * ((1 + 1/len(wait_time)) ** 0.5)\n",
    "print(f\"Prediction interval: {point_est} +/- {round(prediction_range, 7)}\")"
   ]
  },
  {
   "cell_type": "code",
   "execution_count": 20,
   "id": "0a8ecad2-d06b-4d24-9732-2860405ec530",
   "metadata": {},
   "outputs": [
    {
     "name": "stdout",
     "output_type": "stream",
     "text": [
      "Best case: 0.5675120171097143\n",
      "Wrose case: 0.3293724171097141\n",
      "Since the best case 0.568 is great than 0.5, additional replications are needed to reach a decision.\n"
     ]
    }
   ],
   "source": [
    "#part b\n",
    "real_mean = 5.0\n",
    "best_case = point_est + confidence_range - real_mean\n",
    "print(f\"Best case: {abs(best_case)}\")\n",
    "worse_case = point_est - confidence_range - real_mean\n",
    "print(f\"Wrose case: {abs(worse_case)}\")\n",
    "print(f\"Since the best case {round(best_case, 3)} is great than 0.5, additional replications are needed to reach a decision.\")"
   ]
  },
  {
   "cell_type": "code",
   "execution_count": 23,
   "id": "779a929d-6603-4832-9dfe-10e469a002cf",
   "metadata": {},
   "outputs": [
    {
     "name": "stdout",
     "output_type": "stream",
     "text": [
      "Point estimator: 5.488656000000001\n",
      "Standard deviation: 0.31883488552749895\n",
      "Confidence interval: 5.488656 +/- 0.227863\n",
      "Prediction interval: 5.488656 +/- 0.755737\n",
      "Best case: 0.7165192424876254\n",
      "Wrose case: 0.26079275751237585\n",
      "We can see that the best case is getting greater, and the worst case is getting smaller. However, additionall replications are still needed to reach a decision. Simulations with different sample size would need a different close enough value\n"
     ]
    }
   ],
   "source": [
    "#part c \n",
    "large_wait = [5.067244, 5.841346, 5.236687, 5.237372, 5.784465, 5.260560, 5.573276, 5.200412, 5.897205, 5.787993]\n",
    "point_est = sum(large_wait) / len(large_wait) #point estimators\n",
    "print(f\"Point estimator: {point_est}\")\n",
    "stand_dev = (sum([(large_wait[x] - point_est)**2 for x in range(len(large_wait))]) / (len(large_wait) - 1)) ** 0.5 #standard deviation\n",
    "print(f\"Standard deviation: {stand_dev}\")\n",
    "student_t = 2.26 #alpha=0.025, R=10-1\n",
    "confidence_range = student_t * stand_dev / (len(large_wait) ** 0.5)\n",
    "print(f\"Confidence interval: {round(point_est, 6)} +/- {round(confidence_range, 6)}\")\n",
    "prediction_range = student_t * stand_dev * ((1 + 1/len(large_wait)) ** 0.5)\n",
    "print(f\"Prediction interval: {round(point_est, 6)} +/- {round(prediction_range, 6)}\")\n",
    "best_case = point_est + confidence_range - real_mean\n",
    "print(f\"Best case: {abs(best_case)}\")\n",
    "worse_case = point_est - confidence_range - real_mean\n",
    "print(f\"Wrose case: {abs(worse_case)}\")\n",
    "\n",
    "print(\"We can see that the best case is getting greater, and the worst case is getting smaller. However, additional replications are still needed to reach a decision. Simulations with different sample size would need a different close enough value\")"
   ]
  },
  {
   "cell_type": "code",
   "execution_count": null,
   "id": "214d9be7-3819-4db8-b2d8-48aed63d1c07",
   "metadata": {},
   "outputs": [],
   "source": []
  }
 ],
 "metadata": {
  "kernelspec": {
   "display_name": "Python 3 (ipykernel)",
   "language": "python",
   "name": "python3"
  },
  "language_info": {
   "codemirror_mode": {
    "name": "ipython",
    "version": 3
   },
   "file_extension": ".py",
   "mimetype": "text/x-python",
   "name": "python",
   "nbconvert_exporter": "python",
   "pygments_lexer": "ipython3",
   "version": "3.10.6"
  }
 },
 "nbformat": 4,
 "nbformat_minor": 5
}
